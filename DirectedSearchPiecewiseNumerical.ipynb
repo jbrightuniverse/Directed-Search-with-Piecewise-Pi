{
 "cells": [
  {
   "cell_type": "markdown",
   "metadata": {},
   "source": [
    "# Directed Search with Piecewise Pi\n",
    "\n",
    "James Yu, 6 February 2021\n",
    "\n",
    "[This PDF](https://montoya.econ.ubc.ca/Econ306/directed_search.pdf) by Dr. Michael Peters describes a problem of two firms and two workers where workers are looking to maximize wages and firms are setting wages to maximize profits. In this brief notebook, we expand on the problem where each worker is given a \"high\" or \"low\" type, and work out the calculations for the profit-maximizing wage choices in this case."
   ]
  },
  {
   "cell_type": "code",
   "execution_count": 1,
   "metadata": {},
   "outputs": [],
   "source": [
    "import numpy as np\n",
    "import scipy.linalg as la\n",
    "from sympy import *"
   ]
  },
  {
   "cell_type": "markdown",
   "metadata": {},
   "source": [
    "We use Python's [NumPy](https://numpy.org/) and [SciPy](https://www.scipy.org/) libraries to make working with numerical data faster. We will need numerical data in order to solve the problem.\n",
    "\n",
    "We also use the [SymPy](https://www.sympy.org/en/index.html) Python library, which functions similar to SageMath if you are familiar with that.\n",
    "\n",
    "First, we establish the mixed-strategy Nash equilibrium $\\pi$ value given in the original reading for the typed worker problem. This is obtained in the reading by setting the expected payoffs for each worker equal to each other. The problem is symmetric, so we only need to do this once.\n",
    "\n",
    "Next, we do a similar computation for constraints on $\\pi$ that was done for the basic typeless problem. Recall we had conditions where $\\pi$ was greater than one or $\\pi$ was negative, which each manifested as components of a final piecewise $\\pi^*$. Instead of using these piecewise conditions directly, we can use the fact that we are essentially constraining $\\pi$ to the interval $[0, 1]$, and can thus use `max()` and `min()` functions to do this work for us in Python.\n",
    "\n",
    "Finally, given our upgraded $\\pi$, we can plug it into the profit functions for firm 1 and 2. This leads to the following code:"
   ]
  },
  {
   "cell_type": "code",
   "execution_count": 2,
   "metadata": {},
   "outputs": [
    {
     "data": {
      "text/latex": [
       "$\\displaystyle \\frac{- 2 w_{1} + w_{2} + λ \\left(2 w_{1} + w_{2}\\right)}{\\left(w_{1} + w_{2}\\right) \\left(λ - 1\\right)}$"
      ],
      "text/plain": [
       "(-2*w1 + w2 + λ*(2*w1 + w2))/((w1 + w2)*(λ - 1))"
      ]
     },
     "execution_count": 2,
     "metadata": {},
     "output_type": "execute_result"
    }
   ],
   "source": [
    "def profit_1(w1, w2, λ, y1):\n",
    "    π = min(1, max(0, (λ*(2*w1+w2)-(2*w1-w2))/((λ-1)*(w1+w2))))\n",
    "    return (y1-w1)*(1-(1-π)**2)\n",
    "\n",
    "def profit_2(w2, w1, λ, y2):\n",
    "    π = min(1, max(0, (λ*(2*w1+w2)-(2*w1-w2))/((λ-1)*(w1+w2))))\n",
    "    return (y2-w2)*(1-π**2)\n",
    "\n",
    "λ, w1, w2 = symbols(\"λ, w1, w2\")\n",
    "(λ*(2*w1+w2)-(2*w1-w2))/((λ-1)*(w1+w2))"
   ]
  },
  {
   "cell_type": "markdown",
   "metadata": {},
   "source": [
    "Notice how we took the minimum of 1 and a function that gave the maximum of 0 and $\\pi$. The maximum of 0 and $\\pi$ ensures $\\pi$ is never negative, and the minimum of 1 and this result ensures $\\pi$ never exceeds 1.\n",
    "\n",
    "Our profit functions are the same as in the readings, derived by subtracting wages from outputs and multiplying this by the probability of hiring a worker for the particular firm.\n",
    "\n",
    "Next, we apply a few NumPy-related tricks. First, we vectorize each function to make them operate faster on matrices. We then establish a few sequences of numbers so we can try evaluating our profit functions for each parameter."
   ]
  },
  {
   "cell_type": "code",
   "execution_count": 3,
   "metadata": {},
   "outputs": [],
   "source": [
    "profit_1 = np.vectorize(profit_1)\n",
    "profit_2 = np.vectorize(profit_2)\n",
    "\n",
    "w1s = np.linspace(0.00000001, 1, 100)\n",
    "w2s = np.linspace(0.00000001, 1, 100)\n",
    "λs = np.linspace(0.00000001, 0.9999, 100)\n",
    "ys = np.linspace(0, 2, 5)"
   ]
  },
  {
   "cell_type": "markdown",
   "metadata": {},
   "source": [
    "Each linspace declares a start-point and end-point, along with a third parameter for number of entries. Given these ranges for our parameters, we can evaluate the profit function for combinations of them.\n",
    "\n",
    "(Kudos to [this StackOverflow post](https://stackoverflow.com/questions/22774726/numpy-evaluate-function-on-a-grid-of-points) which had an implementation for evaluating functions over an entire matrix at once.)"
   ]
  },
  {
   "cell_type": "code",
   "execution_count": 4,
   "metadata": {},
   "outputs": [],
   "source": [
    "result = profit_1(w1s[:,None,None,None], w2s[None,:,None,None], λs[None,None,:,None], ys[None,None,None,:])"
   ]
  },
  {
   "cell_type": "markdown",
   "metadata": {},
   "source": [
    "This gives us a nice big matrix containing profits for firm 1 given various combinations of $w_1$, $w_2$, $y_1$ and $\\lambda$. To find a best-response, we find the individual $w_1$ values which maximize profits for each $w_2$. That is, each $w_2$ present in the matrix corresponds to a list of $w_1$ values, so we pick the $w_1$ which maximizes profits to declare a best-response.\n",
    "\n",
    "We don't need the actual profit value; rather, we need the index of the particular $w_1$ per $w_2$, so we use an argmax function."
   ]
  },
  {
   "cell_type": "code",
   "execution_count": 5,
   "metadata": {},
   "outputs": [],
   "source": [
    "firm1best = np.argmax(result, axis=0)"
   ]
  },
  {
   "cell_type": "markdown",
   "metadata": {},
   "source": [
    "Now we repeat this for the other firm."
   ]
  },
  {
   "cell_type": "code",
   "execution_count": 6,
   "metadata": {},
   "outputs": [],
   "source": [
    "result2 = profit_2(w2s[:,None,None,None], w1s[None,:,None,None], λs[None,None,:,None], ys[None,None,None,:])\n",
    "firm2best = np.argmax(result2, axis=0)"
   ]
  },
  {
   "cell_type": "markdown",
   "metadata": {},
   "source": [
    "Given we have best-responses for firm 1, and also best-responses for firm 2, we can find a Nash equilibrium by finding the $w_1$-$w_2$ pairs which coincide in both best-response matrices. That is, if the best-response for firm 1 is to play $x$ when firm 2 plays $y$, and the best-response for firm 2 is to play $y$ when firm 1 plays $x$, this is a Nash equilibrium as no firm will be better off by deviating unilaterally.\n",
    "\n",
    "To do this, we iterate over all combinations of $\\lambda$, $y_1$ and $y_2$ possible to see what the best-responses are in each scenario. Our final profit function must depend on these three variables since these are the three original givens, and so we have to check all of them."
   ]
  },
  {
   "cell_type": "code",
   "execution_count": 7,
   "metadata": {},
   "outputs": [
    {
     "name": "stdout",
     "output_type": "stream",
     "text": [
      "60730\n"
     ]
    }
   ],
   "source": [
    "res = []\n",
    "for λ in range(len(λs)):\n",
    "    for y1 in range(len(ys)):\n",
    "        for y2 in range(len(ys)):\n",
    "            f1response = firm1best[:,λ,y1]\n",
    "            f2response = firm2best[:,λ,y2]\n",
    "            for i in f1response:\n",
    "                if f1response[f2response[i]] == i:\n",
    "                    res.append((w1s[i], w2s[f2response[i]], λs[λ], ys[y1], ys[y2]))\n",
    "                        \n",
    "print(len(res))"
   ]
  },
  {
   "cell_type": "markdown",
   "metadata": {},
   "source": [
    "Note the quadruple for loop, which is generally frowned upon universally. It computes fast enough for our purposes, however.\n",
    "\n",
    "Some of the points may be duplicated because of symmetry and possible rounding so let's try to run `set()` to remove duplicates. This function turns a list into a set of unique elements."
   ]
  },
  {
   "cell_type": "code",
   "execution_count": 8,
   "metadata": {},
   "outputs": [
    {
     "name": "stdout",
     "output_type": "stream",
     "text": [
      "3025\n"
     ]
    }
   ],
   "source": [
    "data = list(set(res))\n",
    "print(len(data))"
   ]
  },
  {
   "cell_type": "markdown",
   "metadata": {},
   "source": [
    "That's much smaller, right? \n",
    "\n",
    "We now have a vector containing a large list of Nash equilibria for various $y_1$, $y_2$, $\\lambda$ pairs. This doesn't do well if we have a $y_1$ or $y_2$ out of the range of $[0, 2]$, so let's try to construct an actual best-response function using our data.\n",
    "\n",
    "We use a technique which can probably indisputably be called multivariate polynomial regression. As we have three independent variables and a univariate output, we need some sort of three-dimensional interpolation method to fit a function to our data. The existing literature on this provides trilinear and tricubic interpolation, which either doesn't provide a high enough degree of polynomial or isn't outlined in enough detail to implement quickly. Instead, we construct an entirely different method which is far more questionable but nonetheless seems to work.\n",
    "\n",
    "For reference, we are deriving the model based on the Polynomial Interpolation and Least Squares Linear Regression sections of [this webpage](https://www.math.ubc.ca/~pwalls/math-python/linear-algebra/applications/#polynomial-interpolation) in Dr. Patrick Walls' *Mathematical Python*. We take this model and expand it to become multivariate by adding extra entries in our data matrix to account for the extra variables. Before continuing, give the page a read.\n",
    "\n",
    "Whereas in the existing model each row of the matrix corresponds to an $n$-th degree univariate polynomial, giving $n+1$ entries in the row, here each row corresponds to an $n$-th degree trivariate polynomial with $(n+1)^3$ entries in each row. Each entry is now of the form $c_{ijk} * \\lambda^i * y_1^j * y_2^k$ for $i, j, k$ in $[0, n]$ and some coefficient $c_{ijk}$. This gives us all possible variable combinations in such a trivariate polynomial.\n",
    "\n",
    "Given one of these rows for every data point, we solve a matrix system for all the coefficients $c$ which, when applied to all of our data points, retrieves the best-response $w_1$ or $w_2$ we need. That is, on top of the original interpolation model, $y_m$ contains our best response wage $w_{1_m}$ for the $\\lambda$, $y_1$, $y_2$ combination represented in the $m$-th row of the matrix.\n",
    "\n",
    "The original interpolation model demands a square matrix in order to have a definitive solution for the matrix system. When not possible, the alternative of least squares regression can be used to determine an approximation. As we have a few thousand data points to fit, and we would like to not have a 3000-th degree polynomial as our best response function, we'll use this approximation and see how it goes.\n",
    "\n",
    "First, we'll try for a quadratic polynomial. Our goal is to both get a solution and to make it as precise as possible."
   ]
  },
  {
   "cell_type": "code",
   "execution_count": 9,
   "metadata": {},
   "outputs": [],
   "source": [
    "def generate_matrix(n, data, wage):\n",
    "    n = n + 1\n",
    "    A = np.zeros((len(data), n**3))\n",
    "    y = [entry[wage-1] for entry in data]\n",
    "\n",
    "    index = 0\n",
    "    for entry in data:\n",
    "        λ = entry[2]\n",
    "        y1 = entry[3]\n",
    "        y2 = entry[4]\n",
    "        vec = []\n",
    "        for i in range(n):\n",
    "            for j in range(n):\n",
    "                for k in range(n):\n",
    "                    vec.append(λ**k * y1**j * y2**i)\n",
    "\n",
    "        A[index,:] = vec[:]\n",
    "        index += 1\n",
    "    \n",
    "    return A, y\n",
    "\n",
    "A, y = generate_matrix(2, data, 1)"
   ]
  },
  {
   "cell_type": "markdown",
   "metadata": {},
   "source": [
    "The above code generates the $A$ matrix containing our data points. We now run least squares regression to see if we can come up with coefficients."
   ]
  },
  {
   "cell_type": "code",
   "execution_count": 10,
   "metadata": {},
   "outputs": [
    {
     "name": "stdout",
     "output_type": "stream",
     "text": [
      "[-6.73576649e-04  3.90242874e-02 -4.80522114e-02  6.20567477e-02\n",
      "  8.72881155e-02  6.56752631e-02 -2.83074280e-02  1.45469432e-02\n",
      " -6.50605531e-02  5.23908935e-02 -1.87929362e-01  1.28428427e-01\n",
      "  7.23425519e-01  9.44259191e-01  6.46494828e-01 -1.34068690e-01\n",
      "  7.87213798e-03 -6.50367244e-01 -2.31250666e-02  5.00174205e-02\n",
      " -2.15491367e-02 -2.04235070e-01 -1.22315722e-01 -5.78023781e-01\n",
      "  4.93069738e-02 -1.93359538e-01  4.53023728e-01]\n"
     ]
    }
   ],
   "source": [
    "c = la.lstsq(A,y)\n",
    "print(c[0])"
   ]
  },
  {
   "cell_type": "markdown",
   "metadata": {},
   "source": [
    "A bunch of fancy numbers. We can recompile this into a symbolic polynomial."
   ]
  },
  {
   "cell_type": "code",
   "execution_count": 11,
   "metadata": {},
   "outputs": [
    {
     "data": {
      "text/latex": [
       "$\\displaystyle 0.453023728163665 y_{1}^{2} y_{2}^{2} λ^{2} - 0.193359538246627 y_{1}^{2} y_{2}^{2} λ + 0.0493069737513751 y_{1}^{2} y_{2}^{2} - 0.650367243505001 y_{1}^{2} y_{2} λ^{2} + 0.00787213798318682 y_{1}^{2} y_{2} λ - 0.134068689958266 y_{1}^{2} y_{2} - 0.0650605531238954 y_{1}^{2} λ^{2} + 0.0145469431771775 y_{1}^{2} λ - 0.0283074279810142 y_{1}^{2} - 0.57802378124725 y_{1} y_{2}^{2} λ^{2} - 0.122315721632701 y_{1} y_{2}^{2} λ - 0.204235070158013 y_{1} y_{2}^{2} + 0.646494828370956 y_{1} y_{2} λ^{2} + 0.944259191007472 y_{1} y_{2} λ + 0.723425519018 y_{1} y_{2} + 0.0656752631351035 y_{1} λ^{2} + 0.0872881154700015 y_{1} λ + 0.0620567477467852 y_{1} - 0.0215491366745882 y_{2}^{2} λ^{2} + 0.0500174205283231 y_{2}^{2} λ - 0.0231250665793527 y_{2}^{2} + 0.128428427139525 y_{2} λ^{2} - 0.18792936231927 y_{2} λ + 0.0523908935001176 y_{2} - 0.0480522114251742 λ^{2} + 0.0390242874332167 λ - 0.000673576649039597$"
      ],
      "text/plain": [
       "0.453023728163665*y1**2*y2**2*λ**2 - 0.193359538246627*y1**2*y2**2*λ + 0.0493069737513751*y1**2*y2**2 - 0.650367243505001*y1**2*y2*λ**2 + 0.00787213798318682*y1**2*y2*λ - 0.134068689958266*y1**2*y2 - 0.0650605531238954*y1**2*λ**2 + 0.0145469431771775*y1**2*λ - 0.0283074279810142*y1**2 - 0.57802378124725*y1*y2**2*λ**2 - 0.122315721632701*y1*y2**2*λ - 0.204235070158013*y1*y2**2 + 0.646494828370956*y1*y2*λ**2 + 0.944259191007472*y1*y2*λ + 0.723425519018*y1*y2 + 0.0656752631351035*y1*λ**2 + 0.0872881154700015*y1*λ + 0.0620567477467852*y1 - 0.0215491366745882*y2**2*λ**2 + 0.0500174205283231*y2**2*λ - 0.0231250665793527*y2**2 + 0.128428427139525*y2*λ**2 - 0.18792936231927*y2*λ + 0.0523908935001176*y2 - 0.0480522114251742*λ**2 + 0.0390242874332167*λ - 0.000673576649039597"
      ]
     },
     "execution_count": 11,
     "metadata": {},
     "output_type": "execute_result"
    }
   ],
   "source": [
    "def recompile(n, coeff):\n",
    "    n = n + 1\n",
    "    eq = 0\n",
    "    index = 0\n",
    "    λ, y1, y2 = symbols(\"λ, y1, y2\")\n",
    "    for i in range(n):\n",
    "        for j in range(n):\n",
    "            for k in range(n):\n",
    "                eq += coeff[index] * λ**k * y1**j * y2**i\n",
    "                index += 1\n",
    "\n",
    "    return eq\n",
    "\n",
    "polynomial = recompile(2, c[0])\n",
    "polynomial"
   ]
  },
  {
   "cell_type": "markdown",
   "metadata": {},
   "source": [
    "The decimals are long but this gives a symbolic equation! But before we celebrate, let's check the error level. We can compute both absolute maximum error and average error by comparing our original data to the data generated by this polynomial.\n"
   ]
  },
  {
   "cell_type": "code",
   "execution_count": 12,
   "metadata": {},
   "outputs": [],
   "source": [
    "absolute_error = 0\n",
    "avg_error = 0\n",
    "\n",
    "\n",
    "def update_error(k, wage):\n",
    "    global absolute_error, avg_error\n",
    "    λ, y1, y2 = symbols(\"λ, y1, y2\")\n",
    "    for dat in range(k*len(data)//4, (k+1)*len(data)//4):\n",
    "        e = data[dat]\n",
    "        error = abs(polynomial.subs([[λ, e[2]], [y1, e[3]], [y2, e[4]]]) - e[wage-1])\n",
    "        if error > absolute_error:\n",
    "            absolute_error = error\n",
    "\n",
    "        avg_error += error"
   ]
  },
  {
   "cell_type": "code",
   "execution_count": 13,
   "metadata": {},
   "outputs": [],
   "source": [
    "update_error(0, 1)"
   ]
  },
  {
   "cell_type": "code",
   "execution_count": 14,
   "metadata": {},
   "outputs": [],
   "source": [
    "update_error(1, 1)"
   ]
  },
  {
   "cell_type": "code",
   "execution_count": 15,
   "metadata": {},
   "outputs": [],
   "source": [
    "update_error(2, 1)"
   ]
  },
  {
   "cell_type": "code",
   "execution_count": 16,
   "metadata": {},
   "outputs": [],
   "source": [
    "update_error(3, 1)"
   ]
  },
  {
   "cell_type": "markdown",
   "metadata": {},
   "source": [
    "Unfortunately we have to split that into four parts because otherwise GitHub would never finish rendering in time. We can now print our error data."
   ]
  },
  {
   "cell_type": "code",
   "execution_count": 17,
   "metadata": {},
   "outputs": [
    {
     "name": "stdout",
     "output_type": "stream",
     "text": [
      "0.0606174624387796\n",
      "0.280149851727390\n"
     ]
    }
   ],
   "source": [
    "print(avg_error / len(data))\n",
    "print(absolute_error)"
   ]
  },
  {
   "cell_type": "markdown",
   "metadata": {},
   "source": [
    "That's okay, but not great. This says on average, our best-response wage may be up to 0.061 off from the actual, and at worst may be 0.28 off from the actual.\n",
    "\n",
    "We could try making a more complicated polynomial to see if it would be any better. Let's try a quartic one."
   ]
  },
  {
   "cell_type": "code",
   "execution_count": 18,
   "metadata": {},
   "outputs": [
    {
     "data": {
      "text/latex": [
       "$\\displaystyle - 30.5568317464197 y_{1}^{4} y_{2}^{4} λ^{4} + 54.654435357051 y_{1}^{4} y_{2}^{4} λ^{3} - 30.5428633789734 y_{1}^{4} y_{2}^{4} λ^{2} + 5.64106905300703 y_{1}^{4} y_{2}^{4} λ - 0.148859543272948 y_{1}^{4} y_{2}^{4} + 129.12231765545 y_{1}^{4} y_{2}^{3} λ^{4} - 225.900617493666 y_{1}^{4} y_{2}^{3} λ^{3} + 122.618340789852 y_{1}^{4} y_{2}^{3} λ^{2} - 21.7391777855753 y_{1}^{4} y_{2}^{3} λ + 0.484099501500281 y_{1}^{4} y_{2}^{3} - 160.245740043797 y_{1}^{4} y_{2}^{2} λ^{4} + 268.307038941293 y_{1}^{4} y_{2}^{2} λ^{3} - 137.950182469961 y_{1}^{4} y_{2}^{2} λ^{2} + 22.8422230231961 y_{1}^{4} y_{2}^{2} λ - 0.320432428599 y_{1}^{4} y_{2}^{2} + 49.7014218553912 y_{1}^{4} y_{2} λ^{4} - 74.6773755885589 y_{1}^{4} y_{2} λ^{3} + 34.3573685591562 y_{1}^{4} y_{2} λ^{2} - 4.96958497036158 y_{1}^{4} y_{2} λ - 0.0894794004080017 y_{1}^{4} y_{2} - 7.1932308026712 \\cdot 10^{-10} y_{1}^{4} λ^{4} + 1.5791024876588 \\cdot 10^{-9} y_{1}^{4} λ^{3} - 1.2717324970879 \\cdot 10^{-9} y_{1}^{4} λ^{2} + 4.29509067201295 \\cdot 10^{-10} y_{1}^{4} λ - 0.006734006717207 y_{1}^{4} + 108.272144693775 y_{1}^{3} y_{2}^{4} λ^{4} - 190.295815513907 y_{1}^{3} y_{2}^{4} λ^{3} + 104.311126938804 y_{1}^{3} y_{2}^{4} λ^{2} - 18.9510967551032 y_{1}^{3} y_{2}^{4} λ + 0.408302841326196 y_{1}^{3} y_{2}^{4} - 452.242203770781 y_{1}^{3} y_{2}^{3} λ^{4} + 775.321248598674 y_{1}^{3} y_{2}^{3} λ^{3} - 411.536668294928 y_{1}^{3} y_{2}^{3} λ^{2} + 71.6279613372878 y_{1}^{3} y_{2}^{3} λ - 1.14513141118235 y_{1}^{3} y_{2}^{3} + 550.236418650686 y_{1}^{3} y_{2}^{2} λ^{4} - 896.371740688702 y_{1}^{3} y_{2}^{2} λ^{3} + 447.023183967335 y_{1}^{3} y_{2}^{2} λ^{2} - 72.2457758222562 y_{1}^{3} y_{2}^{2} λ + 0.225633108906552 y_{1}^{3} y_{2}^{2} - 161.876413311146 y_{1}^{3} y_{2} λ^{4} + 229.415696370304 y_{1}^{3} y_{2} λ^{3} - 98.75348404555 y_{1}^{3} y_{2} λ^{2} + 13.3580144441111 y_{1}^{3} y_{2} λ + 0.838618550756612 y_{1}^{3} y_{2} + 2.60793164841289 \\cdot 10^{-9} y_{1}^{3} λ^{4} - 5.66985003391807 \\cdot 10^{-9} y_{1}^{3} λ^{3} + 4.55642162888736 \\cdot 10^{-9} y_{1}^{3} λ^{2} - 1.53573194786039 \\cdot 10^{-9} y_{1}^{3} λ + 0.0336700335086424 y_{1}^{3} - 111.676825901271 y_{1}^{2} y_{2}^{4} λ^{4} + 192.954045327258 y_{1}^{2} y_{2}^{4} λ^{3} - 104.101794875641 y_{1}^{2} y_{2}^{4} λ^{2} + 18.8925111913297 y_{1}^{2} y_{2}^{4} λ - 0.205063803829665 y_{1}^{2} y_{2}^{4} + 460.879935076304 y_{1}^{2} y_{2}^{3} λ^{4} - 774.187127725065 y_{1}^{2} y_{2}^{3} λ^{3} + 403.162816703358 y_{1}^{2} y_{2}^{3} λ^{2} - 70.1684570849992 y_{1}^{2} y_{2}^{3} λ + 0.0987096811993122 y_{1}^{2} y_{2}^{3} - 549.050606155919 y_{1}^{2} y_{2}^{2} λ^{4} + 868.691185116894 y_{1}^{2} y_{2}^{2} λ^{3} - 421.167497670275 y_{1}^{2} y_{2}^{2} λ^{2} + 68.2434073763295 y_{1}^{2} y_{2}^{2} λ + 1.63155489160383 y_{1}^{2} y_{2}^{2} + 151.671875406066 y_{1}^{2} y_{2} λ^{4} - 199.42814911482 y_{1}^{2} y_{2} λ^{3} + 79.0823452604419 y_{1}^{2} y_{2} λ^{2} - 10.6486894516223 y_{1}^{2} y_{2} λ - 2.1112816573184 y_{1}^{2} y_{2} - 3.1029796926374 \\cdot 10^{-9} y_{1}^{2} λ^{4} + 6.56509752811063 \\cdot 10^{-9} y_{1}^{2} λ^{3} - 5.14469555585456 \\cdot 10^{-9} y_{1}^{2} λ^{2} + 1.71674812213252 \\cdot 10^{-9} y_{1}^{2} λ - 0.0589225585342195 y_{1}^{2} + 35.4977637069368 y_{1} y_{2}^{4} λ^{4} - 60.5971985675712 y_{1} y_{2}^{4} λ^{3} + 31.8593320981143 y_{1} y_{2}^{4} λ^{2} - 5.9428447382592 y_{1} y_{2}^{4} λ - 0.150770376483521 y_{1} y_{2}^{4} - 146.142682734351 y_{1} y_{2}^{3} λ^{4} + 242.07819327249 y_{1} y_{2}^{3} λ^{3} - 122.225711281381 y_{1} y_{2}^{3} λ^{2} + 22.1934368666996 y_{1} y_{2}^{3} λ + 1.0842157675701 y_{1} y_{2}^{3} + 174.340872698791 y_{1} y_{2}^{2} λ^{4} - 270.784602609127 y_{1} y_{2}^{2} λ^{3} + 125.607855585502 y_{1} y_{2}^{2} λ^{2} - 22.2836061928924 y_{1} y_{2}^{2} λ - 2.61106785676678 y_{1} y_{2}^{2} - 48.6325128708591 y_{1} y_{2} λ^{4} + 61.4644543365579 y_{1} y_{2} λ^{3} - 21.6166939626936 y_{1} y_{2} λ^{2} + 4.56135994766057 y_{1} y_{2} λ + 2.50158506243814 y_{1} y_{2} + 1.47830924585035 \\cdot 10^{-9} y_{1} λ^{4} - 2.97519408068436 \\cdot 10^{-9} y_{1} λ^{3} + 2.16371352605715 \\cdot 10^{-9} y_{1} λ^{2} - 7.16445319737247 \\cdot 10^{-10} y_{1} λ + 0.0420875417740909 y_{1} - 1.54964352461207 \\cdot 10^{-9} y_{2}^{4} λ^{4} + 3.21836601813175 \\cdot 10^{-9} y_{2}^{4} λ^{3} - 2.18180629119047 \\cdot 10^{-9} y_{2}^{4} λ^{2} + 5.20595122566192 \\cdot 10^{-10} y_{2}^{4} λ - 2.51257903371993 \\cdot 10^{-11} y_{2}^{4} + 6.27625795779352 \\cdot 10^{-9} y_{2}^{3} λ^{4} - 1.30302668654991 \\cdot 10^{-8} y_{2}^{3} λ^{3} + 8.81788153606067 \\cdot 10^{-9} y_{2}^{3} λ^{2} - 2.1011146156269 \\cdot 10^{-9} y_{2}^{3} λ + 1.04124375788217 \\cdot 10^{-10} y_{2}^{3} - 7.72176900198929 \\cdot 10^{-9} y_{2}^{2} λ^{4} + 1.60352235656358 \\cdot 10^{-8} y_{2}^{2} λ^{3} - 1.08493134753918 \\cdot 10^{-8} y_{2}^{2} λ^{2} + 2.59832488858081 \\cdot 10^{-9} y_{2}^{2} λ - 1.37265310229395 \\cdot 10^{-10} y_{2}^{2} + 2.95324853807899 \\cdot 10^{-9} y_{2} λ^{4} - 6.14258004183466 \\cdot 10^{-9} y_{2} λ^{3} + 4.21447713533363 \\cdot 10^{-9} y_{2} λ^{2} - 1.08438757973062 \\cdot 10^{-9} y_{2} λ + 8.52952708463306 \\cdot 10^{-11} y_{2} - 9.60162366281381 \\cdot 10^{-11} λ^{4} + 2.24772853107957 \\cdot 10^{-10} λ^{3} - 2.22174813269138 \\cdot 10^{-10} λ^{2} + 1.22304767008474 \\cdot 10^{-10} λ + 9.96957880008368 \\cdot 10^{-9}$"
      ],
      "text/plain": [
       "-30.5568317464197*y1**4*y2**4*λ**4 + 54.654435357051*y1**4*y2**4*λ**3 - 30.5428633789734*y1**4*y2**4*λ**2 + 5.64106905300703*y1**4*y2**4*λ - 0.148859543272948*y1**4*y2**4 + 129.12231765545*y1**4*y2**3*λ**4 - 225.900617493666*y1**4*y2**3*λ**3 + 122.618340789852*y1**4*y2**3*λ**2 - 21.7391777855753*y1**4*y2**3*λ + 0.484099501500281*y1**4*y2**3 - 160.245740043797*y1**4*y2**2*λ**4 + 268.307038941293*y1**4*y2**2*λ**3 - 137.950182469961*y1**4*y2**2*λ**2 + 22.8422230231961*y1**4*y2**2*λ - 0.320432428599*y1**4*y2**2 + 49.7014218553912*y1**4*y2*λ**4 - 74.6773755885589*y1**4*y2*λ**3 + 34.3573685591562*y1**4*y2*λ**2 - 4.96958497036158*y1**4*y2*λ - 0.0894794004080017*y1**4*y2 - 7.1932308026712e-10*y1**4*λ**4 + 1.5791024876588e-9*y1**4*λ**3 - 1.2717324970879e-9*y1**4*λ**2 + 4.29509067201295e-10*y1**4*λ - 0.006734006717207*y1**4 + 108.272144693775*y1**3*y2**4*λ**4 - 190.295815513907*y1**3*y2**4*λ**3 + 104.311126938804*y1**3*y2**4*λ**2 - 18.9510967551032*y1**3*y2**4*λ + 0.408302841326196*y1**3*y2**4 - 452.242203770781*y1**3*y2**3*λ**4 + 775.321248598674*y1**3*y2**3*λ**3 - 411.536668294928*y1**3*y2**3*λ**2 + 71.6279613372878*y1**3*y2**3*λ - 1.14513141118235*y1**3*y2**3 + 550.236418650686*y1**3*y2**2*λ**4 - 896.371740688702*y1**3*y2**2*λ**3 + 447.023183967335*y1**3*y2**2*λ**2 - 72.2457758222562*y1**3*y2**2*λ + 0.225633108906552*y1**3*y2**2 - 161.876413311146*y1**3*y2*λ**4 + 229.415696370304*y1**3*y2*λ**3 - 98.75348404555*y1**3*y2*λ**2 + 13.3580144441111*y1**3*y2*λ + 0.838618550756612*y1**3*y2 + 2.60793164841289e-9*y1**3*λ**4 - 5.66985003391807e-9*y1**3*λ**3 + 4.55642162888736e-9*y1**3*λ**2 - 1.53573194786039e-9*y1**3*λ + 0.0336700335086424*y1**3 - 111.676825901271*y1**2*y2**4*λ**4 + 192.954045327258*y1**2*y2**4*λ**3 - 104.101794875641*y1**2*y2**4*λ**2 + 18.8925111913297*y1**2*y2**4*λ - 0.205063803829665*y1**2*y2**4 + 460.879935076304*y1**2*y2**3*λ**4 - 774.187127725065*y1**2*y2**3*λ**3 + 403.162816703358*y1**2*y2**3*λ**2 - 70.1684570849992*y1**2*y2**3*λ + 0.0987096811993122*y1**2*y2**3 - 549.050606155919*y1**2*y2**2*λ**4 + 868.691185116894*y1**2*y2**2*λ**3 - 421.167497670275*y1**2*y2**2*λ**2 + 68.2434073763295*y1**2*y2**2*λ + 1.63155489160383*y1**2*y2**2 + 151.671875406066*y1**2*y2*λ**4 - 199.42814911482*y1**2*y2*λ**3 + 79.0823452604419*y1**2*y2*λ**2 - 10.6486894516223*y1**2*y2*λ - 2.1112816573184*y1**2*y2 - 3.1029796926374e-9*y1**2*λ**4 + 6.56509752811063e-9*y1**2*λ**3 - 5.14469555585456e-9*y1**2*λ**2 + 1.71674812213252e-9*y1**2*λ - 0.0589225585342195*y1**2 + 35.4977637069368*y1*y2**4*λ**4 - 60.5971985675712*y1*y2**4*λ**3 + 31.8593320981143*y1*y2**4*λ**2 - 5.9428447382592*y1*y2**4*λ - 0.150770376483521*y1*y2**4 - 146.142682734351*y1*y2**3*λ**4 + 242.07819327249*y1*y2**3*λ**3 - 122.225711281381*y1*y2**3*λ**2 + 22.1934368666996*y1*y2**3*λ + 1.0842157675701*y1*y2**3 + 174.340872698791*y1*y2**2*λ**4 - 270.784602609127*y1*y2**2*λ**3 + 125.607855585502*y1*y2**2*λ**2 - 22.2836061928924*y1*y2**2*λ - 2.61106785676678*y1*y2**2 - 48.6325128708591*y1*y2*λ**4 + 61.4644543365579*y1*y2*λ**3 - 21.6166939626936*y1*y2*λ**2 + 4.56135994766057*y1*y2*λ + 2.50158506243814*y1*y2 + 1.47830924585035e-9*y1*λ**4 - 2.97519408068436e-9*y1*λ**3 + 2.16371352605715e-9*y1*λ**2 - 7.16445319737247e-10*y1*λ + 0.0420875417740909*y1 - 1.54964352461207e-9*y2**4*λ**4 + 3.21836601813175e-9*y2**4*λ**3 - 2.18180629119047e-9*y2**4*λ**2 + 5.20595122566192e-10*y2**4*λ - 2.51257903371993e-11*y2**4 + 6.27625795779352e-9*y2**3*λ**4 - 1.30302668654991e-8*y2**3*λ**3 + 8.81788153606067e-9*y2**3*λ**2 - 2.1011146156269e-9*y2**3*λ + 1.04124375788217e-10*y2**3 - 7.72176900198929e-9*y2**2*λ**4 + 1.60352235656358e-8*y2**2*λ**3 - 1.08493134753918e-8*y2**2*λ**2 + 2.59832488858081e-9*y2**2*λ - 1.37265310229395e-10*y2**2 + 2.95324853807899e-9*y2*λ**4 - 6.14258004183466e-9*y2*λ**3 + 4.21447713533363e-9*y2*λ**2 - 1.08438757973062e-9*y2*λ + 8.52952708463306e-11*y2 - 9.60162366281381e-11*λ**4 + 2.24772853107957e-10*λ**3 - 2.22174813269138e-10*λ**2 + 1.22304767008474e-10*λ + 9.96957880008368e-9"
      ]
     },
     "execution_count": 18,
     "metadata": {},
     "output_type": "execute_result"
    }
   ],
   "source": [
    "A, y = generate_matrix(4, data, 1)\n",
    "c = la.lstsq(A,y)\n",
    "polynomial = recompile(4, c[0])\n",
    "polynomial"
   ]
  },
  {
   "cell_type": "code",
   "execution_count": 19,
   "metadata": {},
   "outputs": [],
   "source": [
    "absolute_error = 0\n",
    "avg_error = 0\n",
    "#update_error(0, 1)"
   ]
  },
  {
   "cell_type": "code",
   "execution_count": 20,
   "metadata": {},
   "outputs": [],
   "source": [
    "#update_error(1, 1)"
   ]
  },
  {
   "cell_type": "code",
   "execution_count": 21,
   "metadata": {},
   "outputs": [],
   "source": [
    "#update_error(2, 1)"
   ]
  },
  {
   "cell_type": "code",
   "execution_count": 22,
   "metadata": {},
   "outputs": [],
   "source": [
    "#update_error(3, 1)"
   ]
  },
  {
   "cell_type": "markdown",
   "metadata": {},
   "source": [
    "We didn't run `update_error()` explicitly because doing so would stop the notebook from loading. You can uncomment the above code if you'd like to try it yourself. For the quartic polynomial, we got an average error of about 0.005 and an absolute error of about 0.057. This is much better than what we had before, and if this were dollar-valued, on average we would essentially have no error on average since we denominate in cents, or 0.01-intervals. The maximum error is not great, but certainly better than before.\n",
    "\n",
    "Personal testing revealed a 9th degree polynomial provided worse error than this 4th degree one, so higher isn't necessarily better. A 6th degree polynomial refuses to solve in this notebook entirely, though, so we won't explore it. You can try it on your own setup if you'd like.\n",
    "\n",
    "Since we have a decent best-response function for firm 1's $w_1$, let's do it again for $w_2$."
   ]
  },
  {
   "cell_type": "code",
   "execution_count": 23,
   "metadata": {},
   "outputs": [],
   "source": [
    "A, y = generate_matrix(4, data, 2)\n",
    "c2 = la.lstsq(A,y)\n",
    "d = c2[0] \n",
    "for i in range(len(d)):\n",
    "    if d[i] < 10**(-10):\n",
    "        d[i] = 0\n",
    "polynomial2 = recompile(4, c2[0])"
   ]
  },
  {
   "cell_type": "code",
   "execution_count": 24,
   "metadata": {},
   "outputs": [
    {
     "data": {
      "text/latex": [
       "$\\displaystyle 15.4382699399085 y_{1}^{4} y_{2}^{4} λ^{3} + 2.10410712835397 y_{1}^{4} y_{2}^{4} λ + 32.0519815400813 y_{1}^{4} y_{2}^{3} λ^{4} + 37.782384525771 y_{1}^{4} y_{2}^{3} λ^{2} + 0.12518047412843 y_{1}^{4} y_{2}^{3} + 65.3486989247366 y_{1}^{4} y_{2}^{2} λ^{3} + 8.32561796753057 y_{1}^{4} y_{2}^{2} λ + 0.0575866522821714 y_{1}^{4} y_{2}^{2} + 6.91828695303802 y_{1}^{4} y_{2} λ^{4} + 8.55770798688695 y_{1}^{4} y_{2} λ^{2} + 8.98558921713644 \\cdot 10^{-10} y_{1}^{4} λ^{3} + 1.93779936541461 \\cdot 10^{-10} y_{1}^{4} λ + 28.7576705836738 y_{1}^{3} y_{2}^{4} λ^{4} + 34.0195637839138 y_{1}^{3} y_{2}^{4} λ^{2} + 0.126500444756716 y_{1}^{3} y_{2}^{4} + 211.155363826836 y_{1}^{3} y_{2}^{3} λ^{3} + 27.5936570089693 y_{1}^{3} y_{2}^{3} λ + 115.033899634319 y_{1}^{3} y_{2}^{2} λ^{4} + 126.485700879125 y_{1}^{3} y_{2}^{2} λ^{2} + 30.6702492017721 y_{1}^{3} y_{2} λ^{3} + 5.1464407562741 y_{1}^{3} y_{2} λ + 1.44281396705288 y_{1}^{3} y_{2} + 1.59104607266869 \\cdot 10^{-9} y_{1}^{3} λ^{4} + 2.48679610237446 \\cdot 10^{-9} y_{1}^{3} λ^{2} + 56.3102085941945 y_{1}^{2} y_{2}^{4} λ^{3} + 7.59896743091638 y_{1}^{2} y_{2}^{4} λ + 112.468921660882 y_{1}^{2} y_{2}^{3} λ^{4} + 123.869802505736 y_{1}^{2} y_{2}^{3} λ^{2} + 180.084297207485 y_{1}^{2} y_{2}^{2} λ^{3} + 25.5875536963515 y_{1}^{2} y_{2}^{2} λ + 2.17151476923065 y_{1}^{2} y_{2}^{2} + 3.70251410030502 y_{1}^{2} y_{2} λ^{4} + 9.61296181623943 y_{1}^{2} y_{2} λ^{2} + 3.98900353026921 \\cdot 10^{-9} y_{1}^{2} λ^{3} + 8.19099652254324 \\cdot 10^{-10} y_{1}^{2} λ + 10.5063224251586 y_{1} y_{2}^{4} λ^{4} + 10.7486754275673 y_{1} y_{2}^{4} λ^{2} + 64.3212510372982 y_{1} y_{2}^{3} λ^{3} + 8.40034886173223 y_{1} y_{2}^{3} λ + 0.643833383203161 y_{1} y_{2}^{3} + 32.4531213479105 y_{1} y_{2}^{2} λ^{4} + 26.8157947395205 y_{1} y_{2}^{2} λ^{2} + 1.95340954610773 y_{1} y_{2} λ^{4} + 2.44781633314181 y_{1} y_{2} λ^{2} + 0.297320242172512 y_{1} y_{2} λ + 2.45295797670875 y_{1} y_{2} + 7.8219886123776 \\cdot 10^{-10} y_{1} λ^{4} + 1.10960371880325 \\cdot 10^{-9} y_{1} λ^{2} + 0.110894173509368 y_{2}^{4} λ^{4} + 0.100565490088966 y_{2}^{4} λ^{2} + 0.00406421910050869 y_{2}^{4} λ + 1.05188769276776 y_{2}^{3} λ^{3} + 0.0381778705445357 y_{2}^{3} + 1.02705323987332 y_{2}^{2} λ^{4} + 0.971969634638374 y_{2}^{2} λ^{2} + 0.0125492602926206 y_{2}^{2} λ + 1.56603802391073 y_{2} λ^{3} + 0.0341360689523162 y_{2} λ + 0.0453323103641808 y_{2} + 9.99114263072499 \\cdot 10^{-9}$"
      ],
      "text/plain": [
       "15.4382699399085*y1**4*y2**4*λ**3 + 2.10410712835397*y1**4*y2**4*λ + 32.0519815400813*y1**4*y2**3*λ**4 + 37.782384525771*y1**4*y2**3*λ**2 + 0.12518047412843*y1**4*y2**3 + 65.3486989247366*y1**4*y2**2*λ**3 + 8.32561796753057*y1**4*y2**2*λ + 0.0575866522821714*y1**4*y2**2 + 6.91828695303802*y1**4*y2*λ**4 + 8.55770798688695*y1**4*y2*λ**2 + 8.98558921713644e-10*y1**4*λ**3 + 1.93779936541461e-10*y1**4*λ + 28.7576705836738*y1**3*y2**4*λ**4 + 34.0195637839138*y1**3*y2**4*λ**2 + 0.126500444756716*y1**3*y2**4 + 211.155363826836*y1**3*y2**3*λ**3 + 27.5936570089693*y1**3*y2**3*λ + 115.033899634319*y1**3*y2**2*λ**4 + 126.485700879125*y1**3*y2**2*λ**2 + 30.6702492017721*y1**3*y2*λ**3 + 5.1464407562741*y1**3*y2*λ + 1.44281396705288*y1**3*y2 + 1.59104607266869e-9*y1**3*λ**4 + 2.48679610237446e-9*y1**3*λ**2 + 56.3102085941945*y1**2*y2**4*λ**3 + 7.59896743091638*y1**2*y2**4*λ + 112.468921660882*y1**2*y2**3*λ**4 + 123.869802505736*y1**2*y2**3*λ**2 + 180.084297207485*y1**2*y2**2*λ**3 + 25.5875536963515*y1**2*y2**2*λ + 2.17151476923065*y1**2*y2**2 + 3.70251410030502*y1**2*y2*λ**4 + 9.61296181623943*y1**2*y2*λ**2 + 3.98900353026921e-9*y1**2*λ**3 + 8.19099652254324e-10*y1**2*λ + 10.5063224251586*y1*y2**4*λ**4 + 10.7486754275673*y1*y2**4*λ**2 + 64.3212510372982*y1*y2**3*λ**3 + 8.40034886173223*y1*y2**3*λ + 0.643833383203161*y1*y2**3 + 32.4531213479105*y1*y2**2*λ**4 + 26.8157947395205*y1*y2**2*λ**2 + 1.95340954610773*y1*y2*λ**4 + 2.44781633314181*y1*y2*λ**2 + 0.297320242172512*y1*y2*λ + 2.45295797670875*y1*y2 + 7.8219886123776e-10*y1*λ**4 + 1.10960371880325e-9*y1*λ**2 + 0.110894173509368*y2**4*λ**4 + 0.100565490088966*y2**4*λ**2 + 0.00406421910050869*y2**4*λ + 1.05188769276776*y2**3*λ**3 + 0.0381778705445357*y2**3 + 1.02705323987332*y2**2*λ**4 + 0.971969634638374*y2**2*λ**2 + 0.0125492602926206*y2**2*λ + 1.56603802391073*y2*λ**3 + 0.0341360689523162*y2*λ + 0.0453323103641808*y2 + 9.99114263072499e-9"
      ]
     },
     "execution_count": 24,
     "metadata": {},
     "output_type": "execute_result"
    }
   ],
   "source": [
    "polynomial2"
   ]
  },
  {
   "cell_type": "markdown",
   "metadata": {},
   "source": [
    "Some of the terms had incredibly small coefficients, so we tried setting them to zero when they were small. We can try doing the same to the other polynomial to see if it might simplify it a little."
   ]
  },
  {
   "cell_type": "code",
   "execution_count": 25,
   "metadata": {},
   "outputs": [],
   "source": [
    "d = c[0]\n",
    "for i in range(len(d)):\n",
    "    if d[i] < 10**(-10):\n",
    "        d[i] = 0\n",
    "polynomial = recompile(4, c[0])"
   ]
  },
  {
   "cell_type": "code",
   "execution_count": 26,
   "metadata": {},
   "outputs": [
    {
     "data": {
      "text/latex": [
       "$\\displaystyle 54.654435357051 y_{1}^{4} y_{2}^{4} λ^{3} + 5.64106905300703 y_{1}^{4} y_{2}^{4} λ + 129.12231765545 y_{1}^{4} y_{2}^{3} λ^{4} + 122.618340789852 y_{1}^{4} y_{2}^{3} λ^{2} + 0.484099501500281 y_{1}^{4} y_{2}^{3} + 268.307038941293 y_{1}^{4} y_{2}^{2} λ^{3} + 22.8422230231961 y_{1}^{4} y_{2}^{2} λ + 49.7014218553912 y_{1}^{4} y_{2} λ^{4} + 34.3573685591562 y_{1}^{4} y_{2} λ^{2} + 1.5791024876588 \\cdot 10^{-9} y_{1}^{4} λ^{3} + 4.29509067201295 \\cdot 10^{-10} y_{1}^{4} λ + 108.272144693775 y_{1}^{3} y_{2}^{4} λ^{4} + 104.311126938804 y_{1}^{3} y_{2}^{4} λ^{2} + 0.408302841326196 y_{1}^{3} y_{2}^{4} + 775.321248598674 y_{1}^{3} y_{2}^{3} λ^{3} + 71.6279613372878 y_{1}^{3} y_{2}^{3} λ + 550.236418650686 y_{1}^{3} y_{2}^{2} λ^{4} + 447.023183967335 y_{1}^{3} y_{2}^{2} λ^{2} + 0.225633108906552 y_{1}^{3} y_{2}^{2} + 229.415696370304 y_{1}^{3} y_{2} λ^{3} + 13.3580144441111 y_{1}^{3} y_{2} λ + 0.838618550756612 y_{1}^{3} y_{2} + 2.60793164841289 \\cdot 10^{-9} y_{1}^{3} λ^{4} + 4.55642162888736 \\cdot 10^{-9} y_{1}^{3} λ^{2} + 0.0336700335086424 y_{1}^{3} + 192.954045327258 y_{1}^{2} y_{2}^{4} λ^{3} + 18.8925111913297 y_{1}^{2} y_{2}^{4} λ + 460.879935076304 y_{1}^{2} y_{2}^{3} λ^{4} + 403.162816703358 y_{1}^{2} y_{2}^{3} λ^{2} + 0.0987096811993122 y_{1}^{2} y_{2}^{3} + 868.691185116894 y_{1}^{2} y_{2}^{2} λ^{3} + 68.2434073763295 y_{1}^{2} y_{2}^{2} λ + 1.63155489160383 y_{1}^{2} y_{2}^{2} + 151.671875406066 y_{1}^{2} y_{2} λ^{4} + 79.0823452604419 y_{1}^{2} y_{2} λ^{2} + 6.56509752811063 \\cdot 10^{-9} y_{1}^{2} λ^{3} + 1.71674812213252 \\cdot 10^{-9} y_{1}^{2} λ + 35.4977637069368 y_{1} y_{2}^{4} λ^{4} + 31.8593320981143 y_{1} y_{2}^{4} λ^{2} + 242.07819327249 y_{1} y_{2}^{3} λ^{3} + 22.1934368666996 y_{1} y_{2}^{3} λ + 1.0842157675701 y_{1} y_{2}^{3} + 174.340872698791 y_{1} y_{2}^{2} λ^{4} + 125.607855585502 y_{1} y_{2}^{2} λ^{2} + 61.4644543365579 y_{1} y_{2} λ^{3} + 4.56135994766057 y_{1} y_{2} λ + 2.50158506243814 y_{1} y_{2} + 1.47830924585035 \\cdot 10^{-9} y_{1} λ^{4} + 2.16371352605715 \\cdot 10^{-9} y_{1} λ^{2} + 0.0420875417740909 y_{1} + 3.21836601813175 \\cdot 10^{-9} y_{2}^{4} λ^{3} + 5.20595122566192 \\cdot 10^{-10} y_{2}^{4} λ + 6.27625795779352 \\cdot 10^{-9} y_{2}^{3} λ^{4} + 8.81788153606067 \\cdot 10^{-9} y_{2}^{3} λ^{2} + 1.04124375788217 \\cdot 10^{-10} y_{2}^{3} + 1.60352235656358 \\cdot 10^{-8} y_{2}^{2} λ^{3} + 2.59832488858081 \\cdot 10^{-9} y_{2}^{2} λ + 2.95324853807899 \\cdot 10^{-9} y_{2} λ^{4} + 4.21447713533363 \\cdot 10^{-9} y_{2} λ^{2} + 2.24772853107957 \\cdot 10^{-10} λ^{3} + 1.22304767008474 \\cdot 10^{-10} λ + 9.96957880008368 \\cdot 10^{-9}$"
      ],
      "text/plain": [
       "54.654435357051*y1**4*y2**4*λ**3 + 5.64106905300703*y1**4*y2**4*λ + 129.12231765545*y1**4*y2**3*λ**4 + 122.618340789852*y1**4*y2**3*λ**2 + 0.484099501500281*y1**4*y2**3 + 268.307038941293*y1**4*y2**2*λ**3 + 22.8422230231961*y1**4*y2**2*λ + 49.7014218553912*y1**4*y2*λ**4 + 34.3573685591562*y1**4*y2*λ**2 + 1.5791024876588e-9*y1**4*λ**3 + 4.29509067201295e-10*y1**4*λ + 108.272144693775*y1**3*y2**4*λ**4 + 104.311126938804*y1**3*y2**4*λ**2 + 0.408302841326196*y1**3*y2**4 + 775.321248598674*y1**3*y2**3*λ**3 + 71.6279613372878*y1**3*y2**3*λ + 550.236418650686*y1**3*y2**2*λ**4 + 447.023183967335*y1**3*y2**2*λ**2 + 0.225633108906552*y1**3*y2**2 + 229.415696370304*y1**3*y2*λ**3 + 13.3580144441111*y1**3*y2*λ + 0.838618550756612*y1**3*y2 + 2.60793164841289e-9*y1**3*λ**4 + 4.55642162888736e-9*y1**3*λ**2 + 0.0336700335086424*y1**3 + 192.954045327258*y1**2*y2**4*λ**3 + 18.8925111913297*y1**2*y2**4*λ + 460.879935076304*y1**2*y2**3*λ**4 + 403.162816703358*y1**2*y2**3*λ**2 + 0.0987096811993122*y1**2*y2**3 + 868.691185116894*y1**2*y2**2*λ**3 + 68.2434073763295*y1**2*y2**2*λ + 1.63155489160383*y1**2*y2**2 + 151.671875406066*y1**2*y2*λ**4 + 79.0823452604419*y1**2*y2*λ**2 + 6.56509752811063e-9*y1**2*λ**3 + 1.71674812213252e-9*y1**2*λ + 35.4977637069368*y1*y2**4*λ**4 + 31.8593320981143*y1*y2**4*λ**2 + 242.07819327249*y1*y2**3*λ**3 + 22.1934368666996*y1*y2**3*λ + 1.0842157675701*y1*y2**3 + 174.340872698791*y1*y2**2*λ**4 + 125.607855585502*y1*y2**2*λ**2 + 61.4644543365579*y1*y2*λ**3 + 4.56135994766057*y1*y2*λ + 2.50158506243814*y1*y2 + 1.47830924585035e-9*y1*λ**4 + 2.16371352605715e-9*y1*λ**2 + 0.0420875417740909*y1 + 3.21836601813175e-9*y2**4*λ**3 + 5.20595122566192e-10*y2**4*λ + 6.27625795779352e-9*y2**3*λ**4 + 8.81788153606067e-9*y2**3*λ**2 + 1.04124375788217e-10*y2**3 + 1.60352235656358e-8*y2**2*λ**3 + 2.59832488858081e-9*y2**2*λ + 2.95324853807899e-9*y2*λ**4 + 4.21447713533363e-9*y2*λ**2 + 2.24772853107957e-10*λ**3 + 1.22304767008474e-10*λ + 9.96957880008368e-9"
      ]
     },
     "execution_count": 26,
     "metadata": {},
     "output_type": "execute_result"
    }
   ],
   "source": [
    "polynomial"
   ]
  },
  {
   "cell_type": "markdown",
   "metadata": {},
   "source": [
    "Smaller, perhaps, but still large. This doesn't matter to too much of an extent. We can now do some interesting math.\n",
    "First, let's use the best-response functions to simplify $\\pi$."
   ]
  },
  {
   "cell_type": "code",
   "execution_count": 27,
   "metadata": {},
   "outputs": [
    {
     "data": {
      "text/latex": [
       "$\\displaystyle \\frac{- 93.8706007741935 y_{1}^{4} y_{2}^{4} λ^{3} - 9.17803097766009 y_{1}^{4} y_{2}^{4} λ - 226.19265377082 y_{1}^{4} y_{2}^{3} λ^{4} - 207.454297053934 y_{1}^{4} y_{2}^{3} λ^{2} - 0.843018528872131 y_{1}^{4} y_{2}^{3} - 471.265378957849 y_{1}^{4} y_{2}^{2} λ^{3} - 37.3588280788617 y_{1}^{4} y_{2}^{2} λ + 0.0575866522821714 y_{1}^{4} y_{2}^{2} - 92.4845567577443 y_{1}^{4} y_{2} λ^{4} - 60.1570291314254 y_{1}^{4} y_{2} λ^{2} - 2.25964605360396 \\cdot 10^{-9} y_{1}^{4} λ^{3} - 6.65238197861129 \\cdot 10^{-10} y_{1}^{4} λ - 187.786618803877 y_{1}^{3} y_{2}^{4} λ^{4} - 174.602690093693 y_{1}^{3} y_{2}^{4} λ^{2} - 0.690105237895676 y_{1}^{3} y_{2}^{4} - 1339.48713337051 y_{1}^{3} y_{2}^{3} λ^{3} - 115.662265665606 y_{1}^{3} y_{2}^{3} λ - 985.438937667053 y_{1}^{3} y_{2}^{2} λ^{4} - 767.560667055545 y_{1}^{3} y_{2}^{2} λ^{2} - 0.451266217813104 y_{1}^{3} y_{2}^{2} - 428.161143538836 y_{1}^{3} y_{2} λ^{3} - 21.5695881319482 y_{1}^{3} y_{2} λ - 0.234423134460347 y_{1}^{3} y_{2} - 3.62481722415708 \\cdot 10^{-9} y_{1}^{3} λ^{4} - 6.62604715540027 \\cdot 10^{-9} y_{1}^{3} λ^{2} - 0.0673400670172847 y_{1}^{3} - 329.597882060321 y_{1}^{2} y_{2}^{4} λ^{3} - 30.186054951743 y_{1}^{2} y_{2}^{4} λ - 809.290948491726 y_{1}^{2} y_{2}^{3} λ^{4} - 682.45583090098 y_{1}^{2} y_{2}^{3} λ^{2} - 0.197419362398624 y_{1}^{2} y_{2}^{3} - 1557.2980730263 y_{1}^{2} y_{2}^{2} λ^{3} - 110.899261056308 y_{1}^{2} y_{2}^{2} λ - 1.09159501397702 y_{1}^{2} y_{2}^{2} - 299.641236711826 y_{1}^{2} y_{2} λ^{4} - 148.551728704644 y_{1}^{2} y_{2} λ^{2} - 9.14119152595205 \\cdot 10^{-9} y_{1}^{2} λ^{3} - 2.61439659201071 \\cdot 10^{-9} y_{1}^{2} λ - 60.4892049887151 y_{1} y_{2}^{4} λ^{4} - 52.9699887686613 y_{1} y_{2}^{4} λ^{2} - 419.835135507681 y_{1} y_{2}^{3} λ^{3} - 35.986524871667 y_{1} y_{2}^{3} λ - 1.52459815193704 y_{1} y_{2}^{3} - 316.228624049672 y_{1} y_{2}^{2} λ^{4} - 224.399916431483 y_{1} y_{2}^{2} λ^{2} + 1.95340954610773 y_{1} y_{2} λ^{4} - 122.928908673116 y_{1} y_{2} λ^{3} + 2.44781633314181 y_{1} y_{2} λ^{2} - 8.82539965314863 y_{1} y_{2} λ - 2.55021214816754 y_{1} y_{2} - 2.17441963046294 \\cdot 10^{-9} y_{1} λ^{4} - 3.21782333331105 \\cdot 10^{-9} y_{1} λ^{2} - 0.0841750835481819 y_{1} + 0.110894173509368 y_{2}^{4} λ^{4} - 6.43673203626349 \\cdot 10^{-9} y_{2}^{4} λ^{3} + 0.100565490088966 y_{2}^{4} λ^{2} + 0.00406421805931845 y_{2}^{4} λ - 1.2552515915587 \\cdot 10^{-8} y_{2}^{3} λ^{4} + 1.05188769276776 y_{2}^{3} λ^{3} - 1.76357630721213 \\cdot 10^{-8} y_{2}^{3} λ^{2} + 0.0381778703362869 y_{2}^{3} + 1.02705323987332 y_{2}^{2} λ^{4} - 3.20704471312716 \\cdot 10^{-8} y_{2}^{2} λ^{3} + 0.971969634638374 y_{2}^{2} λ^{2} + 0.0125492550959709 y_{2}^{2} λ - 5.90649707615798 \\cdot 10^{-9} y_{2} λ^{4} + 1.56603802391073 y_{2} λ^{3} - 8.42895427066725 \\cdot 10^{-9} y_{2} λ^{2} + 0.0341360689523162 y_{2} λ + 0.0453323103641808 y_{2} - 4.49545706215915 \\cdot 10^{-10} λ^{3} + λ \\left(124.747140654011 y_{1}^{4} y_{2}^{4} λ^{3} + 13.386245234368 y_{1}^{4} y_{2}^{4} λ + 290.296616850982 y_{1}^{4} y_{2}^{3} λ^{4} + 283.019066105476 y_{1}^{4} y_{2}^{3} λ^{2} + 1.09337947712899 y_{1}^{4} y_{2}^{3} + 601.962776807322 y_{1}^{4} y_{2}^{2} λ^{3} + 54.0100640139228 y_{1}^{4} y_{2}^{2} λ + 0.0575866522821714 y_{1}^{4} y_{2}^{2} + 106.32113066382 y_{1}^{4} y_{2} λ^{4} + 77.2724451051993 y_{1}^{4} y_{2} λ^{2} + 4.05676389703125 \\cdot 10^{-9} y_{1}^{4} λ^{3} + 1.05279807094405 \\cdot 10^{-9} y_{1}^{4} λ + 245.301959971224 y_{1}^{3} y_{2}^{4} λ^{4} + 242.641817661521 y_{1}^{3} y_{2}^{4} λ^{2} + 0.943106127409109 y_{1}^{3} y_{2}^{4} + 1761.79786102418 y_{1}^{3} y_{2}^{3} λ^{3} + 170.849579683545 y_{1}^{3} y_{2}^{3} λ + 1215.50673693569 y_{1}^{3} y_{2}^{2} λ^{4} + 1020.53206881379 y_{1}^{3} y_{2}^{2} λ^{2} + 0.451266217813104 y_{1}^{3} y_{2}^{2} + 489.50164194238 y_{1}^{3} y_{2} λ^{3} + 31.8624696444964 y_{1}^{3} y_{2} λ + 3.1200510685661 y_{1}^{3} y_{2} + 6.80690936949446 \\cdot 10^{-9} y_{1}^{3} λ^{4} + 1.15996393601492 \\cdot 10^{-8} y_{1}^{3} λ^{2} + 0.0673400670172847 y_{1}^{3} + 442.21829924871 y_{1}^{2} y_{2}^{4} λ^{3} + 45.3839898135758 y_{1}^{2} y_{2}^{4} λ + 1034.22879181349 y_{1}^{2} y_{2}^{3} λ^{4} + 930.195435912451 y_{1}^{2} y_{2}^{3} λ^{2} + 0.197419362398624 y_{1}^{2} y_{2}^{3} + 1917.46666744127 y_{1}^{2} y_{2}^{2} λ^{3} + 162.07436844901 y_{1}^{2} y_{2}^{2} λ + 5.43462455243831 y_{1}^{2} y_{2}^{2} + 307.046264912436 y_{1}^{2} y_{2} λ^{4} + 167.777652337123 y_{1}^{2} y_{2} λ^{2} + 1.71191985864905 \\cdot 10^{-8} y_{1}^{2} λ^{3} + 4.25259589651936 \\cdot 10^{-9} y_{1}^{2} λ + 81.5018498390323 y_{1} y_{2}^{4} λ^{4} + 74.4673396237959 y_{1} y_{2}^{4} λ^{2} + 548.477637582278 y_{1} y_{2}^{3} λ^{3} + 52.7872225951314 y_{1} y_{2}^{3} λ + 2.81226491834336 y_{1} y_{2}^{3} + 381.134866745493 y_{1} y_{2}^{2} λ^{4} + 278.031505910524 y_{1} y_{2}^{2} λ^{2} + 1.95340954610773 y_{1} y_{2} λ^{4} + 122.928908673116 y_{1} y_{2} λ^{3} + 2.44781633314181 y_{1} y_{2} λ^{2} + 9.42004013749366 y_{1} y_{2} λ + 7.45612810158504 y_{1} y_{2} + 3.73881735293846 \\cdot 10^{-9} y_{1} λ^{4} + 5.43703077091756 \\cdot 10^{-9} y_{1} λ^{2} + 0.0841750835481819 y_{1} + 0.110894173509368 y_{2}^{4} λ^{4} + 6.43673203626349 \\cdot 10^{-9} y_{2}^{4} λ^{3} + 0.100565490088966 y_{2}^{4} λ^{2} + 0.00406422014169894 y_{2}^{4} λ + 1.2552515915587 \\cdot 10^{-8} y_{2}^{3} λ^{4} + 1.05188769276776 y_{2}^{3} λ^{3} + 1.76357630721213 \\cdot 10^{-8} y_{2}^{3} λ^{2} + 0.0381778707527844 y_{2}^{3} + 1.02705323987332 y_{2}^{2} λ^{4} + 3.20704471312716 \\cdot 10^{-8} y_{2}^{2} λ^{3} + 0.971969634638374 y_{2}^{2} λ^{2} + 0.0125492654892704 y_{2}^{2} λ + 5.90649707615798 \\cdot 10^{-9} y_{2} λ^{4} + 1.56603802391073 y_{2} λ^{3} + 8.42895427066725 \\cdot 10^{-9} y_{2} λ^{2} + 0.0341360689523162 y_{2} λ + 0.0453323103641808 y_{2} + 4.49545706215915 \\cdot 10^{-10} λ^{3} + 2.44609534016949 \\cdot 10^{-10} λ + 2.99303002308924 \\cdot 10^{-8}\\right) - 2.44609534016949 \\cdot 10^{-10} λ - 9.94801496944237 \\cdot 10^{-9}}{\\left(λ - 1\\right) \\left(70.0927052969595 y_{1}^{4} y_{2}^{4} λ^{3} + 7.745176181361 y_{1}^{4} y_{2}^{4} λ + 161.174299195532 y_{1}^{4} y_{2}^{3} λ^{4} + 160.400725315623 y_{1}^{4} y_{2}^{3} λ^{2} + 0.609279975628711 y_{1}^{4} y_{2}^{3} + 333.655737866029 y_{1}^{4} y_{2}^{2} λ^{3} + 31.1678409907267 y_{1}^{4} y_{2}^{2} λ + 0.0575866522821714 y_{1}^{4} y_{2}^{2} + 56.6197088084292 y_{1}^{4} y_{2} λ^{4} + 42.9150765460431 y_{1}^{4} y_{2} λ^{2} + 2.47766140937244 \\cdot 10^{-9} y_{1}^{4} λ^{3} + 6.23289003742755 \\cdot 10^{-10} y_{1}^{4} λ + 137.029815277449 y_{1}^{3} y_{2}^{4} λ^{4} + 138.330690722717 y_{1}^{3} y_{2}^{4} λ^{2} + 0.534803286082912 y_{1}^{3} y_{2}^{4} + 986.47661242551 y_{1}^{3} y_{2}^{3} λ^{3} + 99.2216183462571 y_{1}^{3} y_{2}^{3} λ + 665.270318285005 y_{1}^{3} y_{2}^{2} λ^{4} + 573.50888484646 y_{1}^{3} y_{2}^{2} λ^{2} + 0.225633108906552 y_{1}^{3} y_{2}^{2} + 260.085945572076 y_{1}^{3} y_{2} λ^{3} + 18.5044552003852 y_{1}^{3} y_{2} λ + 2.28143251780949 y_{1}^{3} y_{2} + 4.19897772108158 \\cdot 10^{-9} y_{1}^{3} λ^{4} + 7.04321773126182 \\cdot 10^{-9} y_{1}^{3} λ^{2} + 0.0336700335086424 y_{1}^{3} + 249.264253921452 y_{1}^{2} y_{2}^{4} λ^{3} + 26.4914786222461 y_{1}^{2} y_{2}^{4} λ + 573.348856737187 y_{1}^{2} y_{2}^{3} λ^{4} + 527.032619209093 y_{1}^{2} y_{2}^{3} λ^{2} + 0.0987096811993122 y_{1}^{2} y_{2}^{3} + 1048.77548232438 y_{1}^{2} y_{2}^{2} λ^{3} + 93.830961072681 y_{1}^{2} y_{2}^{2} λ + 3.80306966083448 y_{1}^{2} y_{2}^{2} + 155.374389506371 y_{1}^{2} y_{2} λ^{4} + 88.6953070766813 y_{1}^{2} y_{2} λ^{2} + 1.05541010583798 \\cdot 10^{-8} y_{1}^{2} λ^{3} + 2.53584777438684 \\cdot 10^{-9} y_{1}^{2} λ + 46.0040861320954 y_{1} y_{2}^{4} λ^{4} + 42.6080075256816 y_{1} y_{2}^{4} λ^{2} + 306.399444309788 y_{1} y_{2}^{3} λ^{3} + 30.5937857284318 y_{1} y_{2}^{3} λ + 1.72804915077326 y_{1} y_{2}^{3} + 206.793994046702 y_{1} y_{2}^{2} λ^{4} + 152.423650325022 y_{1} y_{2}^{2} λ^{2} + 1.95340954610773 y_{1} y_{2} λ^{4} + 61.4644543365579 y_{1} y_{2} λ^{3} + 2.44781633314181 y_{1} y_{2} λ^{2} + 4.85868018983308 y_{1} y_{2} λ + 4.95454303914689 y_{1} y_{2} + 2.26050810708811 \\cdot 10^{-9} y_{1} λ^{4} + 3.27331724486041 \\cdot 10^{-9} y_{1} λ^{2} + 0.0420875417740909 y_{1} + 0.110894173509368 y_{2}^{4} λ^{4} + 3.21836601813175 \\cdot 10^{-9} y_{2}^{4} λ^{3} + 0.100565490088966 y_{2}^{4} λ^{2} + 0.00406421962110382 y_{2}^{4} λ + 6.27625795779352 \\cdot 10^{-9} y_{2}^{3} λ^{4} + 1.05188769276776 y_{2}^{3} λ^{3} + 8.81788153606067 \\cdot 10^{-9} y_{2}^{3} λ^{2} + 0.0381778706486601 y_{2}^{3} + 1.02705323987332 y_{2}^{2} λ^{4} + 1.60352235656358 \\cdot 10^{-8} y_{2}^{2} λ^{3} + 0.971969634638374 y_{2}^{2} λ^{2} + 0.0125492628909455 y_{2}^{2} λ + 2.95324853807899 \\cdot 10^{-9} y_{2} λ^{4} + 1.56603802391073 y_{2} λ^{3} + 4.21447713533363 \\cdot 10^{-9} y_{2} λ^{2} + 0.0341360689523162 y_{2} λ + 0.0453323103641808 y_{2} + 2.24772853107957 \\cdot 10^{-10} λ^{3} + 1.22304767008474 \\cdot 10^{-10} λ + 1.99607214308087 \\cdot 10^{-8}\\right)}$"
      ],
      "text/plain": [
       "(-93.8706007741935*y1**4*y2**4*λ**3 - 9.17803097766009*y1**4*y2**4*λ - 226.19265377082*y1**4*y2**3*λ**4 - 207.454297053934*y1**4*y2**3*λ**2 - 0.843018528872131*y1**4*y2**3 - 471.265378957849*y1**4*y2**2*λ**3 - 37.3588280788617*y1**4*y2**2*λ + 0.0575866522821714*y1**4*y2**2 - 92.4845567577443*y1**4*y2*λ**4 - 60.1570291314254*y1**4*y2*λ**2 - 2.25964605360396e-9*y1**4*λ**3 - 6.65238197861129e-10*y1**4*λ - 187.786618803877*y1**3*y2**4*λ**4 - 174.602690093693*y1**3*y2**4*λ**2 - 0.690105237895676*y1**3*y2**4 - 1339.48713337051*y1**3*y2**3*λ**3 - 115.662265665606*y1**3*y2**3*λ - 985.438937667053*y1**3*y2**2*λ**4 - 767.560667055545*y1**3*y2**2*λ**2 - 0.451266217813104*y1**3*y2**2 - 428.161143538836*y1**3*y2*λ**3 - 21.5695881319482*y1**3*y2*λ - 0.234423134460347*y1**3*y2 - 3.62481722415708e-9*y1**3*λ**4 - 6.62604715540027e-9*y1**3*λ**2 - 0.0673400670172847*y1**3 - 329.597882060321*y1**2*y2**4*λ**3 - 30.186054951743*y1**2*y2**4*λ - 809.290948491726*y1**2*y2**3*λ**4 - 682.45583090098*y1**2*y2**3*λ**2 - 0.197419362398624*y1**2*y2**3 - 1557.2980730263*y1**2*y2**2*λ**3 - 110.899261056308*y1**2*y2**2*λ - 1.09159501397702*y1**2*y2**2 - 299.641236711826*y1**2*y2*λ**4 - 148.551728704644*y1**2*y2*λ**2 - 9.14119152595205e-9*y1**2*λ**3 - 2.61439659201071e-9*y1**2*λ - 60.4892049887151*y1*y2**4*λ**4 - 52.9699887686613*y1*y2**4*λ**2 - 419.835135507681*y1*y2**3*λ**3 - 35.986524871667*y1*y2**3*λ - 1.52459815193704*y1*y2**3 - 316.228624049672*y1*y2**2*λ**4 - 224.399916431483*y1*y2**2*λ**2 + 1.95340954610773*y1*y2*λ**4 - 122.928908673116*y1*y2*λ**3 + 2.44781633314181*y1*y2*λ**2 - 8.82539965314863*y1*y2*λ - 2.55021214816754*y1*y2 - 2.17441963046294e-9*y1*λ**4 - 3.21782333331105e-9*y1*λ**2 - 0.0841750835481819*y1 + 0.110894173509368*y2**4*λ**4 - 6.43673203626349e-9*y2**4*λ**3 + 0.100565490088966*y2**4*λ**2 + 0.00406421805931845*y2**4*λ - 1.2552515915587e-8*y2**3*λ**4 + 1.05188769276776*y2**3*λ**3 - 1.76357630721213e-8*y2**3*λ**2 + 0.0381778703362869*y2**3 + 1.02705323987332*y2**2*λ**4 - 3.20704471312716e-8*y2**2*λ**3 + 0.971969634638374*y2**2*λ**2 + 0.0125492550959709*y2**2*λ - 5.90649707615798e-9*y2*λ**4 + 1.56603802391073*y2*λ**3 - 8.42895427066725e-9*y2*λ**2 + 0.0341360689523162*y2*λ + 0.0453323103641808*y2 - 4.49545706215915e-10*λ**3 + λ*(124.747140654011*y1**4*y2**4*λ**3 + 13.386245234368*y1**4*y2**4*λ + 290.296616850982*y1**4*y2**3*λ**4 + 283.019066105476*y1**4*y2**3*λ**2 + 1.09337947712899*y1**4*y2**3 + 601.962776807322*y1**4*y2**2*λ**3 + 54.0100640139228*y1**4*y2**2*λ + 0.0575866522821714*y1**4*y2**2 + 106.32113066382*y1**4*y2*λ**4 + 77.2724451051993*y1**4*y2*λ**2 + 4.05676389703125e-9*y1**4*λ**3 + 1.05279807094405e-9*y1**4*λ + 245.301959971224*y1**3*y2**4*λ**4 + 242.641817661521*y1**3*y2**4*λ**2 + 0.943106127409109*y1**3*y2**4 + 1761.79786102418*y1**3*y2**3*λ**3 + 170.849579683545*y1**3*y2**3*λ + 1215.50673693569*y1**3*y2**2*λ**4 + 1020.53206881379*y1**3*y2**2*λ**2 + 0.451266217813104*y1**3*y2**2 + 489.50164194238*y1**3*y2*λ**3 + 31.8624696444964*y1**3*y2*λ + 3.1200510685661*y1**3*y2 + 6.80690936949446e-9*y1**3*λ**4 + 1.15996393601492e-8*y1**3*λ**2 + 0.0673400670172847*y1**3 + 442.21829924871*y1**2*y2**4*λ**3 + 45.3839898135758*y1**2*y2**4*λ + 1034.22879181349*y1**2*y2**3*λ**4 + 930.195435912451*y1**2*y2**3*λ**2 + 0.197419362398624*y1**2*y2**3 + 1917.46666744127*y1**2*y2**2*λ**3 + 162.07436844901*y1**2*y2**2*λ + 5.43462455243831*y1**2*y2**2 + 307.046264912436*y1**2*y2*λ**4 + 167.777652337123*y1**2*y2*λ**2 + 1.71191985864905e-8*y1**2*λ**3 + 4.25259589651936e-9*y1**2*λ + 81.5018498390323*y1*y2**4*λ**4 + 74.4673396237959*y1*y2**4*λ**2 + 548.477637582278*y1*y2**3*λ**3 + 52.7872225951314*y1*y2**3*λ + 2.81226491834336*y1*y2**3 + 381.134866745493*y1*y2**2*λ**4 + 278.031505910524*y1*y2**2*λ**2 + 1.95340954610773*y1*y2*λ**4 + 122.928908673116*y1*y2*λ**3 + 2.44781633314181*y1*y2*λ**2 + 9.42004013749366*y1*y2*λ + 7.45612810158504*y1*y2 + 3.73881735293846e-9*y1*λ**4 + 5.43703077091756e-9*y1*λ**2 + 0.0841750835481819*y1 + 0.110894173509368*y2**4*λ**4 + 6.43673203626349e-9*y2**4*λ**3 + 0.100565490088966*y2**4*λ**2 + 0.00406422014169894*y2**4*λ + 1.2552515915587e-8*y2**3*λ**4 + 1.05188769276776*y2**3*λ**3 + 1.76357630721213e-8*y2**3*λ**2 + 0.0381778707527844*y2**3 + 1.02705323987332*y2**2*λ**4 + 3.20704471312716e-8*y2**2*λ**3 + 0.971969634638374*y2**2*λ**2 + 0.0125492654892704*y2**2*λ + 5.90649707615798e-9*y2*λ**4 + 1.56603802391073*y2*λ**3 + 8.42895427066725e-9*y2*λ**2 + 0.0341360689523162*y2*λ + 0.0453323103641808*y2 + 4.49545706215915e-10*λ**3 + 2.44609534016949e-10*λ + 2.99303002308924e-8) - 2.44609534016949e-10*λ - 9.94801496944237e-9)/((λ - 1)*(70.0927052969595*y1**4*y2**4*λ**3 + 7.745176181361*y1**4*y2**4*λ + 161.174299195532*y1**4*y2**3*λ**4 + 160.400725315623*y1**4*y2**3*λ**2 + 0.609279975628711*y1**4*y2**3 + 333.655737866029*y1**4*y2**2*λ**3 + 31.1678409907267*y1**4*y2**2*λ + 0.0575866522821714*y1**4*y2**2 + 56.6197088084292*y1**4*y2*λ**4 + 42.9150765460431*y1**4*y2*λ**2 + 2.47766140937244e-9*y1**4*λ**3 + 6.23289003742755e-10*y1**4*λ + 137.029815277449*y1**3*y2**4*λ**4 + 138.330690722717*y1**3*y2**4*λ**2 + 0.534803286082912*y1**3*y2**4 + 986.47661242551*y1**3*y2**3*λ**3 + 99.2216183462571*y1**3*y2**3*λ + 665.270318285005*y1**3*y2**2*λ**4 + 573.50888484646*y1**3*y2**2*λ**2 + 0.225633108906552*y1**3*y2**2 + 260.085945572076*y1**3*y2*λ**3 + 18.5044552003852*y1**3*y2*λ + 2.28143251780949*y1**3*y2 + 4.19897772108158e-9*y1**3*λ**4 + 7.04321773126182e-9*y1**3*λ**2 + 0.0336700335086424*y1**3 + 249.264253921452*y1**2*y2**4*λ**3 + 26.4914786222461*y1**2*y2**4*λ + 573.348856737187*y1**2*y2**3*λ**4 + 527.032619209093*y1**2*y2**3*λ**2 + 0.0987096811993122*y1**2*y2**3 + 1048.77548232438*y1**2*y2**2*λ**3 + 93.830961072681*y1**2*y2**2*λ + 3.80306966083448*y1**2*y2**2 + 155.374389506371*y1**2*y2*λ**4 + 88.6953070766813*y1**2*y2*λ**2 + 1.05541010583798e-8*y1**2*λ**3 + 2.53584777438684e-9*y1**2*λ + 46.0040861320954*y1*y2**4*λ**4 + 42.6080075256816*y1*y2**4*λ**2 + 306.399444309788*y1*y2**3*λ**3 + 30.5937857284318*y1*y2**3*λ + 1.72804915077326*y1*y2**3 + 206.793994046702*y1*y2**2*λ**4 + 152.423650325022*y1*y2**2*λ**2 + 1.95340954610773*y1*y2*λ**4 + 61.4644543365579*y1*y2*λ**3 + 2.44781633314181*y1*y2*λ**2 + 4.85868018983308*y1*y2*λ + 4.95454303914689*y1*y2 + 2.26050810708811e-9*y1*λ**4 + 3.27331724486041e-9*y1*λ**2 + 0.0420875417740909*y1 + 0.110894173509368*y2**4*λ**4 + 3.21836601813175e-9*y2**4*λ**3 + 0.100565490088966*y2**4*λ**2 + 0.00406421962110382*y2**4*λ + 6.27625795779352e-9*y2**3*λ**4 + 1.05188769276776*y2**3*λ**3 + 8.81788153606067e-9*y2**3*λ**2 + 0.0381778706486601*y2**3 + 1.02705323987332*y2**2*λ**4 + 1.60352235656358e-8*y2**2*λ**3 + 0.971969634638374*y2**2*λ**2 + 0.0125492628909455*y2**2*λ + 2.95324853807899e-9*y2*λ**4 + 1.56603802391073*y2*λ**3 + 4.21447713533363e-9*y2*λ**2 + 0.0341360689523162*y2*λ + 0.0453323103641808*y2 + 2.24772853107957e-10*λ**3 + 1.22304767008474e-10*λ + 1.99607214308087e-8))"
      ]
     },
     "execution_count": 27,
     "metadata": {},
     "output_type": "execute_result"
    }
   ],
   "source": [
    "w1, w2, λ = symbols(\"w1, w2, λ\")\n",
    "π = (λ*(2*w1+w2)-(2*w1-w2))/((λ-1)*(w1+w2))\n",
    "π = π.subs(w1, polynomial).subs(w2, polynomial2)\n",
    "simplify(π)"
   ]
  },
  {
   "cell_type": "markdown",
   "metadata": {},
   "source": [
    "That's big. We can try making some profit functions now."
   ]
  },
  {
   "cell_type": "code",
   "execution_count": 28,
   "metadata": {},
   "outputs": [
    {
     "data": {
      "text/latex": [
       "$\\displaystyle \\left(1 - \\left(1 - \\min\\left(1, \\max\\left(0, \\frac{- 93.8706007741935 y_{1}^{4} y_{2}^{4} λ^{3} - 9.17803097766009 y_{1}^{4} y_{2}^{4} λ - 226.19265377082 y_{1}^{4} y_{2}^{3} λ^{4} - 207.454297053934 y_{1}^{4} y_{2}^{3} λ^{2} - 0.843018528872131 y_{1}^{4} y_{2}^{3} - 471.265378957849 y_{1}^{4} y_{2}^{2} λ^{3} - 37.3588280788617 y_{1}^{4} y_{2}^{2} λ + 0.0575866522821714 y_{1}^{4} y_{2}^{2} - 92.4845567577443 y_{1}^{4} y_{2} λ^{4} - 60.1570291314254 y_{1}^{4} y_{2} λ^{2} - 2.25964605360396 \\cdot 10^{-9} y_{1}^{4} λ^{3} - 6.65238197861129 \\cdot 10^{-10} y_{1}^{4} λ - 187.786618803877 y_{1}^{3} y_{2}^{4} λ^{4} - 174.602690093693 y_{1}^{3} y_{2}^{4} λ^{2} - 0.690105237895676 y_{1}^{3} y_{2}^{4} - 1339.48713337051 y_{1}^{3} y_{2}^{3} λ^{3} - 115.662265665606 y_{1}^{3} y_{2}^{3} λ - 985.438937667053 y_{1}^{3} y_{2}^{2} λ^{4} - 767.560667055545 y_{1}^{3} y_{2}^{2} λ^{2} - 0.451266217813104 y_{1}^{3} y_{2}^{2} - 428.161143538836 y_{1}^{3} y_{2} λ^{3} - 21.5695881319482 y_{1}^{3} y_{2} λ - 0.234423134460347 y_{1}^{3} y_{2} - 3.62481722415708 \\cdot 10^{-9} y_{1}^{3} λ^{4} - 6.62604715540027 \\cdot 10^{-9} y_{1}^{3} λ^{2} - 0.0673400670172847 y_{1}^{3} - 329.597882060321 y_{1}^{2} y_{2}^{4} λ^{3} - 30.186054951743 y_{1}^{2} y_{2}^{4} λ - 809.290948491726 y_{1}^{2} y_{2}^{3} λ^{4} - 682.45583090098 y_{1}^{2} y_{2}^{3} λ^{2} - 0.197419362398624 y_{1}^{2} y_{2}^{3} - 1557.2980730263 y_{1}^{2} y_{2}^{2} λ^{3} - 110.899261056308 y_{1}^{2} y_{2}^{2} λ - 1.09159501397702 y_{1}^{2} y_{2}^{2} - 299.641236711826 y_{1}^{2} y_{2} λ^{4} - 148.551728704644 y_{1}^{2} y_{2} λ^{2} - 9.14119152595205 \\cdot 10^{-9} y_{1}^{2} λ^{3} - 2.61439659201071 \\cdot 10^{-9} y_{1}^{2} λ - 60.4892049887151 y_{1} y_{2}^{4} λ^{4} - 52.9699887686613 y_{1} y_{2}^{4} λ^{2} - 419.835135507681 y_{1} y_{2}^{3} λ^{3} - 35.986524871667 y_{1} y_{2}^{3} λ - 1.52459815193704 y_{1} y_{2}^{3} - 316.228624049672 y_{1} y_{2}^{2} λ^{4} - 224.399916431483 y_{1} y_{2}^{2} λ^{2} + 1.95340954610773 y_{1} y_{2} λ^{4} - 122.928908673116 y_{1} y_{2} λ^{3} + 2.44781633314181 y_{1} y_{2} λ^{2} - 8.82539965314863 y_{1} y_{2} λ - 2.55021214816754 y_{1} y_{2} - 2.17441963046294 \\cdot 10^{-9} y_{1} λ^{4} - 3.21782333331105 \\cdot 10^{-9} y_{1} λ^{2} - 0.0841750835481819 y_{1} + 0.110894173509368 y_{2}^{4} λ^{4} - 6.43673203626349 \\cdot 10^{-9} y_{2}^{4} λ^{3} + 0.100565490088966 y_{2}^{4} λ^{2} + 0.00406421805931845 y_{2}^{4} λ - 1.2552515915587 \\cdot 10^{-8} y_{2}^{3} λ^{4} + 1.05188769276776 y_{2}^{3} λ^{3} - 1.76357630721213 \\cdot 10^{-8} y_{2}^{3} λ^{2} + 0.0381778703362869 y_{2}^{3} + 1.02705323987332 y_{2}^{2} λ^{4} - 3.20704471312716 \\cdot 10^{-8} y_{2}^{2} λ^{3} + 0.971969634638374 y_{2}^{2} λ^{2} + 0.0125492550959709 y_{2}^{2} λ - 5.90649707615798 \\cdot 10^{-9} y_{2} λ^{4} + 1.56603802391073 y_{2} λ^{3} - 8.42895427066725 \\cdot 10^{-9} y_{2} λ^{2} + 0.0341360689523162 y_{2} λ + 0.0453323103641808 y_{2} - 4.49545706215915 \\cdot 10^{-10} λ^{3} + λ \\left(124.747140654011 y_{1}^{4} y_{2}^{4} λ^{3} + 13.386245234368 y_{1}^{4} y_{2}^{4} λ + 290.296616850982 y_{1}^{4} y_{2}^{3} λ^{4} + 283.019066105476 y_{1}^{4} y_{2}^{3} λ^{2} + 1.09337947712899 y_{1}^{4} y_{2}^{3} + 601.962776807322 y_{1}^{4} y_{2}^{2} λ^{3} + 54.0100640139228 y_{1}^{4} y_{2}^{2} λ + 0.0575866522821714 y_{1}^{4} y_{2}^{2} + 106.32113066382 y_{1}^{4} y_{2} λ^{4} + 77.2724451051993 y_{1}^{4} y_{2} λ^{2} + 4.05676389703125 \\cdot 10^{-9} y_{1}^{4} λ^{3} + 1.05279807094405 \\cdot 10^{-9} y_{1}^{4} λ + 245.301959971224 y_{1}^{3} y_{2}^{4} λ^{4} + 242.641817661521 y_{1}^{3} y_{2}^{4} λ^{2} + 0.943106127409109 y_{1}^{3} y_{2}^{4} + 1761.79786102418 y_{1}^{3} y_{2}^{3} λ^{3} + 170.849579683545 y_{1}^{3} y_{2}^{3} λ + 1215.50673693569 y_{1}^{3} y_{2}^{2} λ^{4} + 1020.53206881379 y_{1}^{3} y_{2}^{2} λ^{2} + 0.451266217813104 y_{1}^{3} y_{2}^{2} + 489.50164194238 y_{1}^{3} y_{2} λ^{3} + 31.8624696444964 y_{1}^{3} y_{2} λ + 3.1200510685661 y_{1}^{3} y_{2} + 6.80690936949446 \\cdot 10^{-9} y_{1}^{3} λ^{4} + 1.15996393601492 \\cdot 10^{-8} y_{1}^{3} λ^{2} + 0.0673400670172847 y_{1}^{3} + 442.21829924871 y_{1}^{2} y_{2}^{4} λ^{3} + 45.3839898135758 y_{1}^{2} y_{2}^{4} λ + 1034.22879181349 y_{1}^{2} y_{2}^{3} λ^{4} + 930.195435912451 y_{1}^{2} y_{2}^{3} λ^{2} + 0.197419362398624 y_{1}^{2} y_{2}^{3} + 1917.46666744127 y_{1}^{2} y_{2}^{2} λ^{3} + 162.07436844901 y_{1}^{2} y_{2}^{2} λ + 5.43462455243831 y_{1}^{2} y_{2}^{2} + 307.046264912436 y_{1}^{2} y_{2} λ^{4} + 167.777652337123 y_{1}^{2} y_{2} λ^{2} + 1.71191985864905 \\cdot 10^{-8} y_{1}^{2} λ^{3} + 4.25259589651936 \\cdot 10^{-9} y_{1}^{2} λ + 81.5018498390323 y_{1} y_{2}^{4} λ^{4} + 74.4673396237959 y_{1} y_{2}^{4} λ^{2} + 548.477637582278 y_{1} y_{2}^{3} λ^{3} + 52.7872225951314 y_{1} y_{2}^{3} λ + 2.81226491834336 y_{1} y_{2}^{3} + 381.134866745493 y_{1} y_{2}^{2} λ^{4} + 278.031505910524 y_{1} y_{2}^{2} λ^{2} + 1.95340954610773 y_{1} y_{2} λ^{4} + 122.928908673116 y_{1} y_{2} λ^{3} + 2.44781633314181 y_{1} y_{2} λ^{2} + 9.42004013749366 y_{1} y_{2} λ + 7.45612810158504 y_{1} y_{2} + 3.73881735293846 \\cdot 10^{-9} y_{1} λ^{4} + 5.43703077091756 \\cdot 10^{-9} y_{1} λ^{2} + 0.0841750835481819 y_{1} + 0.110894173509368 y_{2}^{4} λ^{4} + 6.43673203626349 \\cdot 10^{-9} y_{2}^{4} λ^{3} + 0.100565490088966 y_{2}^{4} λ^{2} + 0.00406422014169894 y_{2}^{4} λ + 1.2552515915587 \\cdot 10^{-8} y_{2}^{3} λ^{4} + 1.05188769276776 y_{2}^{3} λ^{3} + 1.76357630721213 \\cdot 10^{-8} y_{2}^{3} λ^{2} + 0.0381778707527844 y_{2}^{3} + 1.02705323987332 y_{2}^{2} λ^{4} + 3.20704471312716 \\cdot 10^{-8} y_{2}^{2} λ^{3} + 0.971969634638374 y_{2}^{2} λ^{2} + 0.0125492654892704 y_{2}^{2} λ + 5.90649707615798 \\cdot 10^{-9} y_{2} λ^{4} + 1.56603802391073 y_{2} λ^{3} + 8.42895427066725 \\cdot 10^{-9} y_{2} λ^{2} + 0.0341360689523162 y_{2} λ + 0.0453323103641808 y_{2} + 4.49545706215915 \\cdot 10^{-10} λ^{3} + 2.44609534016949 \\cdot 10^{-10} λ + 2.99303002308924 \\cdot 10^{-8}\\right) - 2.44609534016949 \\cdot 10^{-10} λ - 9.94801496944237 \\cdot 10^{-9}}{\\left(λ - 1\\right) \\left(70.0927052969595 y_{1}^{4} y_{2}^{4} λ^{3} + 7.745176181361 y_{1}^{4} y_{2}^{4} λ + 161.174299195532 y_{1}^{4} y_{2}^{3} λ^{4} + 160.400725315623 y_{1}^{4} y_{2}^{3} λ^{2} + 0.609279975628711 y_{1}^{4} y_{2}^{3} + 333.655737866029 y_{1}^{4} y_{2}^{2} λ^{3} + 31.1678409907267 y_{1}^{4} y_{2}^{2} λ + 0.0575866522821714 y_{1}^{4} y_{2}^{2} + 56.6197088084292 y_{1}^{4} y_{2} λ^{4} + 42.9150765460431 y_{1}^{4} y_{2} λ^{2} + 2.47766140937244 \\cdot 10^{-9} y_{1}^{4} λ^{3} + 6.23289003742755 \\cdot 10^{-10} y_{1}^{4} λ + 137.029815277449 y_{1}^{3} y_{2}^{4} λ^{4} + 138.330690722717 y_{1}^{3} y_{2}^{4} λ^{2} + 0.534803286082912 y_{1}^{3} y_{2}^{4} + 986.47661242551 y_{1}^{3} y_{2}^{3} λ^{3} + 99.2216183462571 y_{1}^{3} y_{2}^{3} λ + 665.270318285005 y_{1}^{3} y_{2}^{2} λ^{4} + 573.50888484646 y_{1}^{3} y_{2}^{2} λ^{2} + 0.225633108906552 y_{1}^{3} y_{2}^{2} + 260.085945572076 y_{1}^{3} y_{2} λ^{3} + 18.5044552003852 y_{1}^{3} y_{2} λ + 2.28143251780949 y_{1}^{3} y_{2} + 4.19897772108158 \\cdot 10^{-9} y_{1}^{3} λ^{4} + 7.04321773126182 \\cdot 10^{-9} y_{1}^{3} λ^{2} + 0.0336700335086424 y_{1}^{3} + 249.264253921452 y_{1}^{2} y_{2}^{4} λ^{3} + 26.4914786222461 y_{1}^{2} y_{2}^{4} λ + 573.348856737187 y_{1}^{2} y_{2}^{3} λ^{4} + 527.032619209093 y_{1}^{2} y_{2}^{3} λ^{2} + 0.0987096811993122 y_{1}^{2} y_{2}^{3} + 1048.77548232438 y_{1}^{2} y_{2}^{2} λ^{3} + 93.830961072681 y_{1}^{2} y_{2}^{2} λ + 3.80306966083448 y_{1}^{2} y_{2}^{2} + 155.374389506371 y_{1}^{2} y_{2} λ^{4} + 88.6953070766813 y_{1}^{2} y_{2} λ^{2} + 1.05541010583798 \\cdot 10^{-8} y_{1}^{2} λ^{3} + 2.53584777438684 \\cdot 10^{-9} y_{1}^{2} λ + 46.0040861320954 y_{1} y_{2}^{4} λ^{4} + 42.6080075256816 y_{1} y_{2}^{4} λ^{2} + 306.399444309788 y_{1} y_{2}^{3} λ^{3} + 30.5937857284318 y_{1} y_{2}^{3} λ + 1.72804915077326 y_{1} y_{2}^{3} + 206.793994046702 y_{1} y_{2}^{2} λ^{4} + 152.423650325022 y_{1} y_{2}^{2} λ^{2} + 1.95340954610773 y_{1} y_{2} λ^{4} + 61.4644543365579 y_{1} y_{2} λ^{3} + 2.44781633314181 y_{1} y_{2} λ^{2} + 4.85868018983308 y_{1} y_{2} λ + 4.95454303914689 y_{1} y_{2} + 2.26050810708811 \\cdot 10^{-9} y_{1} λ^{4} + 3.27331724486041 \\cdot 10^{-9} y_{1} λ^{2} + 0.0420875417740909 y_{1} + 0.110894173509368 y_{2}^{4} λ^{4} + 3.21836601813175 \\cdot 10^{-9} y_{2}^{4} λ^{3} + 0.100565490088966 y_{2}^{4} λ^{2} + 0.00406421962110382 y_{2}^{4} λ + 6.27625795779352 \\cdot 10^{-9} y_{2}^{3} λ^{4} + 1.05188769276776 y_{2}^{3} λ^{3} + 8.81788153606067 \\cdot 10^{-9} y_{2}^{3} λ^{2} + 0.0381778706486601 y_{2}^{3} + 1.02705323987332 y_{2}^{2} λ^{4} + 1.60352235656358 \\cdot 10^{-8} y_{2}^{2} λ^{3} + 0.971969634638374 y_{2}^{2} λ^{2} + 0.0125492628909455 y_{2}^{2} λ + 2.95324853807899 \\cdot 10^{-9} y_{2} λ^{4} + 1.56603802391073 y_{2} λ^{3} + 4.21447713533363 \\cdot 10^{-9} y_{2} λ^{2} + 0.0341360689523162 y_{2} λ + 0.0453323103641808 y_{2} + 2.24772853107957 \\cdot 10^{-10} λ^{3} + 1.22304767008474 \\cdot 10^{-10} λ + 1.99607214308087 \\cdot 10^{-8}\\right)}\\right)\\right)\\right)^{2}\\right) \\left(- 54.654435357051 y_{1}^{4} y_{2}^{4} λ^{3} - 5.64106905300703 y_{1}^{4} y_{2}^{4} λ - 129.12231765545 y_{1}^{4} y_{2}^{3} λ^{4} - 122.618340789852 y_{1}^{4} y_{2}^{3} λ^{2} - 0.484099501500281 y_{1}^{4} y_{2}^{3} - 268.307038941293 y_{1}^{4} y_{2}^{2} λ^{3} - 22.8422230231961 y_{1}^{4} y_{2}^{2} λ - 49.7014218553912 y_{1}^{4} y_{2} λ^{4} - 34.3573685591562 y_{1}^{4} y_{2} λ^{2} - 1.5791024876588 \\cdot 10^{-9} y_{1}^{4} λ^{3} - 4.29509067201295 \\cdot 10^{-10} y_{1}^{4} λ - 108.272144693775 y_{1}^{3} y_{2}^{4} λ^{4} - 104.311126938804 y_{1}^{3} y_{2}^{4} λ^{2} - 0.408302841326196 y_{1}^{3} y_{2}^{4} - 775.321248598674 y_{1}^{3} y_{2}^{3} λ^{3} - 71.6279613372878 y_{1}^{3} y_{2}^{3} λ - 550.236418650686 y_{1}^{3} y_{2}^{2} λ^{4} - 447.023183967335 y_{1}^{3} y_{2}^{2} λ^{2} - 0.225633108906552 y_{1}^{3} y_{2}^{2} - 229.415696370304 y_{1}^{3} y_{2} λ^{3} - 13.3580144441111 y_{1}^{3} y_{2} λ - 0.838618550756612 y_{1}^{3} y_{2} - 2.60793164841289 \\cdot 10^{-9} y_{1}^{3} λ^{4} - 4.55642162888736 \\cdot 10^{-9} y_{1}^{3} λ^{2} - 0.0336700335086424 y_{1}^{3} - 192.954045327258 y_{1}^{2} y_{2}^{4} λ^{3} - 18.8925111913297 y_{1}^{2} y_{2}^{4} λ - 460.879935076304 y_{1}^{2} y_{2}^{3} λ^{4} - 403.162816703358 y_{1}^{2} y_{2}^{3} λ^{2} - 0.0987096811993122 y_{1}^{2} y_{2}^{3} - 868.691185116894 y_{1}^{2} y_{2}^{2} λ^{3} - 68.2434073763295 y_{1}^{2} y_{2}^{2} λ - 1.63155489160383 y_{1}^{2} y_{2}^{2} - 151.671875406066 y_{1}^{2} y_{2} λ^{4} - 79.0823452604419 y_{1}^{2} y_{2} λ^{2} - 6.56509752811063 \\cdot 10^{-9} y_{1}^{2} λ^{3} - 1.71674812213252 \\cdot 10^{-9} y_{1}^{2} λ - 35.4977637069368 y_{1} y_{2}^{4} λ^{4} - 31.8593320981143 y_{1} y_{2}^{4} λ^{2} - 242.07819327249 y_{1} y_{2}^{3} λ^{3} - 22.1934368666996 y_{1} y_{2}^{3} λ - 1.0842157675701 y_{1} y_{2}^{3} - 174.340872698791 y_{1} y_{2}^{2} λ^{4} - 125.607855585502 y_{1} y_{2}^{2} λ^{2} - 61.4644543365579 y_{1} y_{2} λ^{3} - 4.56135994766057 y_{1} y_{2} λ - 2.50158506243814 y_{1} y_{2} - 1.47830924585035 \\cdot 10^{-9} y_{1} λ^{4} - 2.16371352605715 \\cdot 10^{-9} y_{1} λ^{2} + 0.957912458225909 y_{1} - 3.21836601813175 \\cdot 10^{-9} y_{2}^{4} λ^{3} - 5.20595122566192 \\cdot 10^{-10} y_{2}^{4} λ - 6.27625795779352 \\cdot 10^{-9} y_{2}^{3} λ^{4} - 8.81788153606067 \\cdot 10^{-9} y_{2}^{3} λ^{2} - 1.04124375788217 \\cdot 10^{-10} y_{2}^{3} - 1.60352235656358 \\cdot 10^{-8} y_{2}^{2} λ^{3} - 2.59832488858081 \\cdot 10^{-9} y_{2}^{2} λ - 2.95324853807899 \\cdot 10^{-9} y_{2} λ^{4} - 4.21447713533363 \\cdot 10^{-9} y_{2} λ^{2} - 2.24772853107957 \\cdot 10^{-10} λ^{3} - 1.22304767008474 \\cdot 10^{-10} λ - 9.96957880008368 \\cdot 10^{-9}\\right)$"
      ],
      "text/plain": [
       "(1 - (1 - Min(1, Max(0, (-93.8706007741935*y1**4*y2**4*λ**3 - 9.17803097766009*y1**4*y2**4*λ - 226.19265377082*y1**4*y2**3*λ**4 - 207.454297053934*y1**4*y2**3*λ**2 - 0.843018528872131*y1**4*y2**3 - 471.265378957849*y1**4*y2**2*λ**3 - 37.3588280788617*y1**4*y2**2*λ + 0.0575866522821714*y1**4*y2**2 - 92.4845567577443*y1**4*y2*λ**4 - 60.1570291314254*y1**4*y2*λ**2 - 2.25964605360396e-9*y1**4*λ**3 - 6.65238197861129e-10*y1**4*λ - 187.786618803877*y1**3*y2**4*λ**4 - 174.602690093693*y1**3*y2**4*λ**2 - 0.690105237895676*y1**3*y2**4 - 1339.48713337051*y1**3*y2**3*λ**3 - 115.662265665606*y1**3*y2**3*λ - 985.438937667053*y1**3*y2**2*λ**4 - 767.560667055545*y1**3*y2**2*λ**2 - 0.451266217813104*y1**3*y2**2 - 428.161143538836*y1**3*y2*λ**3 - 21.5695881319482*y1**3*y2*λ - 0.234423134460347*y1**3*y2 - 3.62481722415708e-9*y1**3*λ**4 - 6.62604715540027e-9*y1**3*λ**2 - 0.0673400670172847*y1**3 - 329.597882060321*y1**2*y2**4*λ**3 - 30.186054951743*y1**2*y2**4*λ - 809.290948491726*y1**2*y2**3*λ**4 - 682.45583090098*y1**2*y2**3*λ**2 - 0.197419362398624*y1**2*y2**3 - 1557.2980730263*y1**2*y2**2*λ**3 - 110.899261056308*y1**2*y2**2*λ - 1.09159501397702*y1**2*y2**2 - 299.641236711826*y1**2*y2*λ**4 - 148.551728704644*y1**2*y2*λ**2 - 9.14119152595205e-9*y1**2*λ**3 - 2.61439659201071e-9*y1**2*λ - 60.4892049887151*y1*y2**4*λ**4 - 52.9699887686613*y1*y2**4*λ**2 - 419.835135507681*y1*y2**3*λ**3 - 35.986524871667*y1*y2**3*λ - 1.52459815193704*y1*y2**3 - 316.228624049672*y1*y2**2*λ**4 - 224.399916431483*y1*y2**2*λ**2 + 1.95340954610773*y1*y2*λ**4 - 122.928908673116*y1*y2*λ**3 + 2.44781633314181*y1*y2*λ**2 - 8.82539965314863*y1*y2*λ - 2.55021214816754*y1*y2 - 2.17441963046294e-9*y1*λ**4 - 3.21782333331105e-9*y1*λ**2 - 0.0841750835481819*y1 + 0.110894173509368*y2**4*λ**4 - 6.43673203626349e-9*y2**4*λ**3 + 0.100565490088966*y2**4*λ**2 + 0.00406421805931845*y2**4*λ - 1.2552515915587e-8*y2**3*λ**4 + 1.05188769276776*y2**3*λ**3 - 1.76357630721213e-8*y2**3*λ**2 + 0.0381778703362869*y2**3 + 1.02705323987332*y2**2*λ**4 - 3.20704471312716e-8*y2**2*λ**3 + 0.971969634638374*y2**2*λ**2 + 0.0125492550959709*y2**2*λ - 5.90649707615798e-9*y2*λ**4 + 1.56603802391073*y2*λ**3 - 8.42895427066725e-9*y2*λ**2 + 0.0341360689523162*y2*λ + 0.0453323103641808*y2 - 4.49545706215915e-10*λ**3 + λ*(124.747140654011*y1**4*y2**4*λ**3 + 13.386245234368*y1**4*y2**4*λ + 290.296616850982*y1**4*y2**3*λ**4 + 283.019066105476*y1**4*y2**3*λ**2 + 1.09337947712899*y1**4*y2**3 + 601.962776807322*y1**4*y2**2*λ**3 + 54.0100640139228*y1**4*y2**2*λ + 0.0575866522821714*y1**4*y2**2 + 106.32113066382*y1**4*y2*λ**4 + 77.2724451051993*y1**4*y2*λ**2 + 4.05676389703125e-9*y1**4*λ**3 + 1.05279807094405e-9*y1**4*λ + 245.301959971224*y1**3*y2**4*λ**4 + 242.641817661521*y1**3*y2**4*λ**2 + 0.943106127409109*y1**3*y2**4 + 1761.79786102418*y1**3*y2**3*λ**3 + 170.849579683545*y1**3*y2**3*λ + 1215.50673693569*y1**3*y2**2*λ**4 + 1020.53206881379*y1**3*y2**2*λ**2 + 0.451266217813104*y1**3*y2**2 + 489.50164194238*y1**3*y2*λ**3 + 31.8624696444964*y1**3*y2*λ + 3.1200510685661*y1**3*y2 + 6.80690936949446e-9*y1**3*λ**4 + 1.15996393601492e-8*y1**3*λ**2 + 0.0673400670172847*y1**3 + 442.21829924871*y1**2*y2**4*λ**3 + 45.3839898135758*y1**2*y2**4*λ + 1034.22879181349*y1**2*y2**3*λ**4 + 930.195435912451*y1**2*y2**3*λ**2 + 0.197419362398624*y1**2*y2**3 + 1917.46666744127*y1**2*y2**2*λ**3 + 162.07436844901*y1**2*y2**2*λ + 5.43462455243831*y1**2*y2**2 + 307.046264912436*y1**2*y2*λ**4 + 167.777652337123*y1**2*y2*λ**2 + 1.71191985864905e-8*y1**2*λ**3 + 4.25259589651936e-9*y1**2*λ + 81.5018498390323*y1*y2**4*λ**4 + 74.4673396237959*y1*y2**4*λ**2 + 548.477637582278*y1*y2**3*λ**3 + 52.7872225951314*y1*y2**3*λ + 2.81226491834336*y1*y2**3 + 381.134866745493*y1*y2**2*λ**4 + 278.031505910524*y1*y2**2*λ**2 + 1.95340954610773*y1*y2*λ**4 + 122.928908673116*y1*y2*λ**3 + 2.44781633314181*y1*y2*λ**2 + 9.42004013749366*y1*y2*λ + 7.45612810158504*y1*y2 + 3.73881735293846e-9*y1*λ**4 + 5.43703077091756e-9*y1*λ**2 + 0.0841750835481819*y1 + 0.110894173509368*y2**4*λ**4 + 6.43673203626349e-9*y2**4*λ**3 + 0.100565490088966*y2**4*λ**2 + 0.00406422014169894*y2**4*λ + 1.2552515915587e-8*y2**3*λ**4 + 1.05188769276776*y2**3*λ**3 + 1.76357630721213e-8*y2**3*λ**2 + 0.0381778707527844*y2**3 + 1.02705323987332*y2**2*λ**4 + 3.20704471312716e-8*y2**2*λ**3 + 0.971969634638374*y2**2*λ**2 + 0.0125492654892704*y2**2*λ + 5.90649707615798e-9*y2*λ**4 + 1.56603802391073*y2*λ**3 + 8.42895427066725e-9*y2*λ**2 + 0.0341360689523162*y2*λ + 0.0453323103641808*y2 + 4.49545706215915e-10*λ**3 + 2.44609534016949e-10*λ + 2.99303002308924e-8) - 2.44609534016949e-10*λ - 9.94801496944237e-9)/((λ - 1)*(70.0927052969595*y1**4*y2**4*λ**3 + 7.745176181361*y1**4*y2**4*λ + 161.174299195532*y1**4*y2**3*λ**4 + 160.400725315623*y1**4*y2**3*λ**2 + 0.609279975628711*y1**4*y2**3 + 333.655737866029*y1**4*y2**2*λ**3 + 31.1678409907267*y1**4*y2**2*λ + 0.0575866522821714*y1**4*y2**2 + 56.6197088084292*y1**4*y2*λ**4 + 42.9150765460431*y1**4*y2*λ**2 + 2.47766140937244e-9*y1**4*λ**3 + 6.23289003742755e-10*y1**4*λ + 137.029815277449*y1**3*y2**4*λ**4 + 138.330690722717*y1**3*y2**4*λ**2 + 0.534803286082912*y1**3*y2**4 + 986.47661242551*y1**3*y2**3*λ**3 + 99.2216183462571*y1**3*y2**3*λ + 665.270318285005*y1**3*y2**2*λ**4 + 573.50888484646*y1**3*y2**2*λ**2 + 0.225633108906552*y1**3*y2**2 + 260.085945572076*y1**3*y2*λ**3 + 18.5044552003852*y1**3*y2*λ + 2.28143251780949*y1**3*y2 + 4.19897772108158e-9*y1**3*λ**4 + 7.04321773126182e-9*y1**3*λ**2 + 0.0336700335086424*y1**3 + 249.264253921452*y1**2*y2**4*λ**3 + 26.4914786222461*y1**2*y2**4*λ + 573.348856737187*y1**2*y2**3*λ**4 + 527.032619209093*y1**2*y2**3*λ**2 + 0.0987096811993122*y1**2*y2**3 + 1048.77548232438*y1**2*y2**2*λ**3 + 93.830961072681*y1**2*y2**2*λ + 3.80306966083448*y1**2*y2**2 + 155.374389506371*y1**2*y2*λ**4 + 88.6953070766813*y1**2*y2*λ**2 + 1.05541010583798e-8*y1**2*λ**3 + 2.53584777438684e-9*y1**2*λ + 46.0040861320954*y1*y2**4*λ**4 + 42.6080075256816*y1*y2**4*λ**2 + 306.399444309788*y1*y2**3*λ**3 + 30.5937857284318*y1*y2**3*λ + 1.72804915077326*y1*y2**3 + 206.793994046702*y1*y2**2*λ**4 + 152.423650325022*y1*y2**2*λ**2 + 1.95340954610773*y1*y2*λ**4 + 61.4644543365579*y1*y2*λ**3 + 2.44781633314181*y1*y2*λ**2 + 4.85868018983308*y1*y2*λ + 4.95454303914689*y1*y2 + 2.26050810708811e-9*y1*λ**4 + 3.27331724486041e-9*y1*λ**2 + 0.0420875417740909*y1 + 0.110894173509368*y2**4*λ**4 + 3.21836601813175e-9*y2**4*λ**3 + 0.100565490088966*y2**4*λ**2 + 0.00406421962110382*y2**4*λ + 6.27625795779352e-9*y2**3*λ**4 + 1.05188769276776*y2**3*λ**3 + 8.81788153606067e-9*y2**3*λ**2 + 0.0381778706486601*y2**3 + 1.02705323987332*y2**2*λ**4 + 1.60352235656358e-8*y2**2*λ**3 + 0.971969634638374*y2**2*λ**2 + 0.0125492628909455*y2**2*λ + 2.95324853807899e-9*y2*λ**4 + 1.56603802391073*y2*λ**3 + 4.21447713533363e-9*y2*λ**2 + 0.0341360689523162*y2*λ + 0.0453323103641808*y2 + 2.24772853107957e-10*λ**3 + 1.22304767008474e-10*λ + 1.99607214308087e-8)))))**2)*(-54.654435357051*y1**4*y2**4*λ**3 - 5.64106905300703*y1**4*y2**4*λ - 129.12231765545*y1**4*y2**3*λ**4 - 122.618340789852*y1**4*y2**3*λ**2 - 0.484099501500281*y1**4*y2**3 - 268.307038941293*y1**4*y2**2*λ**3 - 22.8422230231961*y1**4*y2**2*λ - 49.7014218553912*y1**4*y2*λ**4 - 34.3573685591562*y1**4*y2*λ**2 - 1.5791024876588e-9*y1**4*λ**3 - 4.29509067201295e-10*y1**4*λ - 108.272144693775*y1**3*y2**4*λ**4 - 104.311126938804*y1**3*y2**4*λ**2 - 0.408302841326196*y1**3*y2**4 - 775.321248598674*y1**3*y2**3*λ**3 - 71.6279613372878*y1**3*y2**3*λ - 550.236418650686*y1**3*y2**2*λ**4 - 447.023183967335*y1**3*y2**2*λ**2 - 0.225633108906552*y1**3*y2**2 - 229.415696370304*y1**3*y2*λ**3 - 13.3580144441111*y1**3*y2*λ - 0.838618550756612*y1**3*y2 - 2.60793164841289e-9*y1**3*λ**4 - 4.55642162888736e-9*y1**3*λ**2 - 0.0336700335086424*y1**3 - 192.954045327258*y1**2*y2**4*λ**3 - 18.8925111913297*y1**2*y2**4*λ - 460.879935076304*y1**2*y2**3*λ**4 - 403.162816703358*y1**2*y2**3*λ**2 - 0.0987096811993122*y1**2*y2**3 - 868.691185116894*y1**2*y2**2*λ**3 - 68.2434073763295*y1**2*y2**2*λ - 1.63155489160383*y1**2*y2**2 - 151.671875406066*y1**2*y2*λ**4 - 79.0823452604419*y1**2*y2*λ**2 - 6.56509752811063e-9*y1**2*λ**3 - 1.71674812213252e-9*y1**2*λ - 35.4977637069368*y1*y2**4*λ**4 - 31.8593320981143*y1*y2**4*λ**2 - 242.07819327249*y1*y2**3*λ**3 - 22.1934368666996*y1*y2**3*λ - 1.0842157675701*y1*y2**3 - 174.340872698791*y1*y2**2*λ**4 - 125.607855585502*y1*y2**2*λ**2 - 61.4644543365579*y1*y2*λ**3 - 4.56135994766057*y1*y2*λ - 2.50158506243814*y1*y2 - 1.47830924585035e-9*y1*λ**4 - 2.16371352605715e-9*y1*λ**2 + 0.957912458225909*y1 - 3.21836601813175e-9*y2**4*λ**3 - 5.20595122566192e-10*y2**4*λ - 6.27625795779352e-9*y2**3*λ**4 - 8.81788153606067e-9*y2**3*λ**2 - 1.04124375788217e-10*y2**3 - 1.60352235656358e-8*y2**2*λ**3 - 2.59832488858081e-9*y2**2*λ - 2.95324853807899e-9*y2*λ**4 - 4.21447713533363e-9*y2*λ**2 - 2.24772853107957e-10*λ**3 - 1.22304767008474e-10*λ - 9.96957880008368e-9)"
      ]
     },
     "execution_count": 28,
     "metadata": {},
     "output_type": "execute_result"
    }
   ],
   "source": [
    "π = Min(1, Max(0, π))\n",
    "y1, y2 = symbols(\"y1, y2\")\n",
    "w1 = polynomial\n",
    "w2 = λ\n",
    "profit_1 = (y1-w1)*(1-(1-π)**2)\n",
    "profit_1"
   ]
  },
  {
   "cell_type": "code",
   "execution_count": 29,
   "metadata": {},
   "outputs": [
    {
     "data": {
      "text/latex": [
       "$\\displaystyle \\left(1 - \\min\\left(1, \\max\\left(0, \\frac{- 93.8706007741935 y_{1}^{4} y_{2}^{4} λ^{3} - 9.17803097766009 y_{1}^{4} y_{2}^{4} λ - 226.19265377082 y_{1}^{4} y_{2}^{3} λ^{4} - 207.454297053934 y_{1}^{4} y_{2}^{3} λ^{2} - 0.843018528872131 y_{1}^{4} y_{2}^{3} - 471.265378957849 y_{1}^{4} y_{2}^{2} λ^{3} - 37.3588280788617 y_{1}^{4} y_{2}^{2} λ + 0.0575866522821714 y_{1}^{4} y_{2}^{2} - 92.4845567577443 y_{1}^{4} y_{2} λ^{4} - 60.1570291314254 y_{1}^{4} y_{2} λ^{2} - 2.25964605360396 \\cdot 10^{-9} y_{1}^{4} λ^{3} - 6.65238197861129 \\cdot 10^{-10} y_{1}^{4} λ - 187.786618803877 y_{1}^{3} y_{2}^{4} λ^{4} - 174.602690093693 y_{1}^{3} y_{2}^{4} λ^{2} - 0.690105237895676 y_{1}^{3} y_{2}^{4} - 1339.48713337051 y_{1}^{3} y_{2}^{3} λ^{3} - 115.662265665606 y_{1}^{3} y_{2}^{3} λ - 985.438937667053 y_{1}^{3} y_{2}^{2} λ^{4} - 767.560667055545 y_{1}^{3} y_{2}^{2} λ^{2} - 0.451266217813104 y_{1}^{3} y_{2}^{2} - 428.161143538836 y_{1}^{3} y_{2} λ^{3} - 21.5695881319482 y_{1}^{3} y_{2} λ - 0.234423134460347 y_{1}^{3} y_{2} - 3.62481722415708 \\cdot 10^{-9} y_{1}^{3} λ^{4} - 6.62604715540027 \\cdot 10^{-9} y_{1}^{3} λ^{2} - 0.0673400670172847 y_{1}^{3} - 329.597882060321 y_{1}^{2} y_{2}^{4} λ^{3} - 30.186054951743 y_{1}^{2} y_{2}^{4} λ - 809.290948491726 y_{1}^{2} y_{2}^{3} λ^{4} - 682.45583090098 y_{1}^{2} y_{2}^{3} λ^{2} - 0.197419362398624 y_{1}^{2} y_{2}^{3} - 1557.2980730263 y_{1}^{2} y_{2}^{2} λ^{3} - 110.899261056308 y_{1}^{2} y_{2}^{2} λ - 1.09159501397702 y_{1}^{2} y_{2}^{2} - 299.641236711826 y_{1}^{2} y_{2} λ^{4} - 148.551728704644 y_{1}^{2} y_{2} λ^{2} - 9.14119152595205 \\cdot 10^{-9} y_{1}^{2} λ^{3} - 2.61439659201071 \\cdot 10^{-9} y_{1}^{2} λ - 60.4892049887151 y_{1} y_{2}^{4} λ^{4} - 52.9699887686613 y_{1} y_{2}^{4} λ^{2} - 419.835135507681 y_{1} y_{2}^{3} λ^{3} - 35.986524871667 y_{1} y_{2}^{3} λ - 1.52459815193704 y_{1} y_{2}^{3} - 316.228624049672 y_{1} y_{2}^{2} λ^{4} - 224.399916431483 y_{1} y_{2}^{2} λ^{2} + 1.95340954610773 y_{1} y_{2} λ^{4} - 122.928908673116 y_{1} y_{2} λ^{3} + 2.44781633314181 y_{1} y_{2} λ^{2} - 8.82539965314863 y_{1} y_{2} λ - 2.55021214816754 y_{1} y_{2} - 2.17441963046294 \\cdot 10^{-9} y_{1} λ^{4} - 3.21782333331105 \\cdot 10^{-9} y_{1} λ^{2} - 0.0841750835481819 y_{1} + 0.110894173509368 y_{2}^{4} λ^{4} - 6.43673203626349 \\cdot 10^{-9} y_{2}^{4} λ^{3} + 0.100565490088966 y_{2}^{4} λ^{2} + 0.00406421805931845 y_{2}^{4} λ - 1.2552515915587 \\cdot 10^{-8} y_{2}^{3} λ^{4} + 1.05188769276776 y_{2}^{3} λ^{3} - 1.76357630721213 \\cdot 10^{-8} y_{2}^{3} λ^{2} + 0.0381778703362869 y_{2}^{3} + 1.02705323987332 y_{2}^{2} λ^{4} - 3.20704471312716 \\cdot 10^{-8} y_{2}^{2} λ^{3} + 0.971969634638374 y_{2}^{2} λ^{2} + 0.0125492550959709 y_{2}^{2} λ - 5.90649707615798 \\cdot 10^{-9} y_{2} λ^{4} + 1.56603802391073 y_{2} λ^{3} - 8.42895427066725 \\cdot 10^{-9} y_{2} λ^{2} + 0.0341360689523162 y_{2} λ + 0.0453323103641808 y_{2} - 4.49545706215915 \\cdot 10^{-10} λ^{3} + λ \\left(124.747140654011 y_{1}^{4} y_{2}^{4} λ^{3} + 13.386245234368 y_{1}^{4} y_{2}^{4} λ + 290.296616850982 y_{1}^{4} y_{2}^{3} λ^{4} + 283.019066105476 y_{1}^{4} y_{2}^{3} λ^{2} + 1.09337947712899 y_{1}^{4} y_{2}^{3} + 601.962776807322 y_{1}^{4} y_{2}^{2} λ^{3} + 54.0100640139228 y_{1}^{4} y_{2}^{2} λ + 0.0575866522821714 y_{1}^{4} y_{2}^{2} + 106.32113066382 y_{1}^{4} y_{2} λ^{4} + 77.2724451051993 y_{1}^{4} y_{2} λ^{2} + 4.05676389703125 \\cdot 10^{-9} y_{1}^{4} λ^{3} + 1.05279807094405 \\cdot 10^{-9} y_{1}^{4} λ + 245.301959971224 y_{1}^{3} y_{2}^{4} λ^{4} + 242.641817661521 y_{1}^{3} y_{2}^{4} λ^{2} + 0.943106127409109 y_{1}^{3} y_{2}^{4} + 1761.79786102418 y_{1}^{3} y_{2}^{3} λ^{3} + 170.849579683545 y_{1}^{3} y_{2}^{3} λ + 1215.50673693569 y_{1}^{3} y_{2}^{2} λ^{4} + 1020.53206881379 y_{1}^{3} y_{2}^{2} λ^{2} + 0.451266217813104 y_{1}^{3} y_{2}^{2} + 489.50164194238 y_{1}^{3} y_{2} λ^{3} + 31.8624696444964 y_{1}^{3} y_{2} λ + 3.1200510685661 y_{1}^{3} y_{2} + 6.80690936949446 \\cdot 10^{-9} y_{1}^{3} λ^{4} + 1.15996393601492 \\cdot 10^{-8} y_{1}^{3} λ^{2} + 0.0673400670172847 y_{1}^{3} + 442.21829924871 y_{1}^{2} y_{2}^{4} λ^{3} + 45.3839898135758 y_{1}^{2} y_{2}^{4} λ + 1034.22879181349 y_{1}^{2} y_{2}^{3} λ^{4} + 930.195435912451 y_{1}^{2} y_{2}^{3} λ^{2} + 0.197419362398624 y_{1}^{2} y_{2}^{3} + 1917.46666744127 y_{1}^{2} y_{2}^{2} λ^{3} + 162.07436844901 y_{1}^{2} y_{2}^{2} λ + 5.43462455243831 y_{1}^{2} y_{2}^{2} + 307.046264912436 y_{1}^{2} y_{2} λ^{4} + 167.777652337123 y_{1}^{2} y_{2} λ^{2} + 1.71191985864905 \\cdot 10^{-8} y_{1}^{2} λ^{3} + 4.25259589651936 \\cdot 10^{-9} y_{1}^{2} λ + 81.5018498390323 y_{1} y_{2}^{4} λ^{4} + 74.4673396237959 y_{1} y_{2}^{4} λ^{2} + 548.477637582278 y_{1} y_{2}^{3} λ^{3} + 52.7872225951314 y_{1} y_{2}^{3} λ + 2.81226491834336 y_{1} y_{2}^{3} + 381.134866745493 y_{1} y_{2}^{2} λ^{4} + 278.031505910524 y_{1} y_{2}^{2} λ^{2} + 1.95340954610773 y_{1} y_{2} λ^{4} + 122.928908673116 y_{1} y_{2} λ^{3} + 2.44781633314181 y_{1} y_{2} λ^{2} + 9.42004013749366 y_{1} y_{2} λ + 7.45612810158504 y_{1} y_{2} + 3.73881735293846 \\cdot 10^{-9} y_{1} λ^{4} + 5.43703077091756 \\cdot 10^{-9} y_{1} λ^{2} + 0.0841750835481819 y_{1} + 0.110894173509368 y_{2}^{4} λ^{4} + 6.43673203626349 \\cdot 10^{-9} y_{2}^{4} λ^{3} + 0.100565490088966 y_{2}^{4} λ^{2} + 0.00406422014169894 y_{2}^{4} λ + 1.2552515915587 \\cdot 10^{-8} y_{2}^{3} λ^{4} + 1.05188769276776 y_{2}^{3} λ^{3} + 1.76357630721213 \\cdot 10^{-8} y_{2}^{3} λ^{2} + 0.0381778707527844 y_{2}^{3} + 1.02705323987332 y_{2}^{2} λ^{4} + 3.20704471312716 \\cdot 10^{-8} y_{2}^{2} λ^{3} + 0.971969634638374 y_{2}^{2} λ^{2} + 0.0125492654892704 y_{2}^{2} λ + 5.90649707615798 \\cdot 10^{-9} y_{2} λ^{4} + 1.56603802391073 y_{2} λ^{3} + 8.42895427066725 \\cdot 10^{-9} y_{2} λ^{2} + 0.0341360689523162 y_{2} λ + 0.0453323103641808 y_{2} + 4.49545706215915 \\cdot 10^{-10} λ^{3} + 2.44609534016949 \\cdot 10^{-10} λ + 2.99303002308924 \\cdot 10^{-8}\\right) - 2.44609534016949 \\cdot 10^{-10} λ - 9.94801496944237 \\cdot 10^{-9}}{\\left(λ - 1\\right) \\left(70.0927052969595 y_{1}^{4} y_{2}^{4} λ^{3} + 7.745176181361 y_{1}^{4} y_{2}^{4} λ + 161.174299195532 y_{1}^{4} y_{2}^{3} λ^{4} + 160.400725315623 y_{1}^{4} y_{2}^{3} λ^{2} + 0.609279975628711 y_{1}^{4} y_{2}^{3} + 333.655737866029 y_{1}^{4} y_{2}^{2} λ^{3} + 31.1678409907267 y_{1}^{4} y_{2}^{2} λ + 0.0575866522821714 y_{1}^{4} y_{2}^{2} + 56.6197088084292 y_{1}^{4} y_{2} λ^{4} + 42.9150765460431 y_{1}^{4} y_{2} λ^{2} + 2.47766140937244 \\cdot 10^{-9} y_{1}^{4} λ^{3} + 6.23289003742755 \\cdot 10^{-10} y_{1}^{4} λ + 137.029815277449 y_{1}^{3} y_{2}^{4} λ^{4} + 138.330690722717 y_{1}^{3} y_{2}^{4} λ^{2} + 0.534803286082912 y_{1}^{3} y_{2}^{4} + 986.47661242551 y_{1}^{3} y_{2}^{3} λ^{3} + 99.2216183462571 y_{1}^{3} y_{2}^{3} λ + 665.270318285005 y_{1}^{3} y_{2}^{2} λ^{4} + 573.50888484646 y_{1}^{3} y_{2}^{2} λ^{2} + 0.225633108906552 y_{1}^{3} y_{2}^{2} + 260.085945572076 y_{1}^{3} y_{2} λ^{3} + 18.5044552003852 y_{1}^{3} y_{2} λ + 2.28143251780949 y_{1}^{3} y_{2} + 4.19897772108158 \\cdot 10^{-9} y_{1}^{3} λ^{4} + 7.04321773126182 \\cdot 10^{-9} y_{1}^{3} λ^{2} + 0.0336700335086424 y_{1}^{3} + 249.264253921452 y_{1}^{2} y_{2}^{4} λ^{3} + 26.4914786222461 y_{1}^{2} y_{2}^{4} λ + 573.348856737187 y_{1}^{2} y_{2}^{3} λ^{4} + 527.032619209093 y_{1}^{2} y_{2}^{3} λ^{2} + 0.0987096811993122 y_{1}^{2} y_{2}^{3} + 1048.77548232438 y_{1}^{2} y_{2}^{2} λ^{3} + 93.830961072681 y_{1}^{2} y_{2}^{2} λ + 3.80306966083448 y_{1}^{2} y_{2}^{2} + 155.374389506371 y_{1}^{2} y_{2} λ^{4} + 88.6953070766813 y_{1}^{2} y_{2} λ^{2} + 1.05541010583798 \\cdot 10^{-8} y_{1}^{2} λ^{3} + 2.53584777438684 \\cdot 10^{-9} y_{1}^{2} λ + 46.0040861320954 y_{1} y_{2}^{4} λ^{4} + 42.6080075256816 y_{1} y_{2}^{4} λ^{2} + 306.399444309788 y_{1} y_{2}^{3} λ^{3} + 30.5937857284318 y_{1} y_{2}^{3} λ + 1.72804915077326 y_{1} y_{2}^{3} + 206.793994046702 y_{1} y_{2}^{2} λ^{4} + 152.423650325022 y_{1} y_{2}^{2} λ^{2} + 1.95340954610773 y_{1} y_{2} λ^{4} + 61.4644543365579 y_{1} y_{2} λ^{3} + 2.44781633314181 y_{1} y_{2} λ^{2} + 4.85868018983308 y_{1} y_{2} λ + 4.95454303914689 y_{1} y_{2} + 2.26050810708811 \\cdot 10^{-9} y_{1} λ^{4} + 3.27331724486041 \\cdot 10^{-9} y_{1} λ^{2} + 0.0420875417740909 y_{1} + 0.110894173509368 y_{2}^{4} λ^{4} + 3.21836601813175 \\cdot 10^{-9} y_{2}^{4} λ^{3} + 0.100565490088966 y_{2}^{4} λ^{2} + 0.00406421962110382 y_{2}^{4} λ + 6.27625795779352 \\cdot 10^{-9} y_{2}^{3} λ^{4} + 1.05188769276776 y_{2}^{3} λ^{3} + 8.81788153606067 \\cdot 10^{-9} y_{2}^{3} λ^{2} + 0.0381778706486601 y_{2}^{3} + 1.02705323987332 y_{2}^{2} λ^{4} + 1.60352235656358 \\cdot 10^{-8} y_{2}^{2} λ^{3} + 0.971969634638374 y_{2}^{2} λ^{2} + 0.0125492628909455 y_{2}^{2} λ + 2.95324853807899 \\cdot 10^{-9} y_{2} λ^{4} + 1.56603802391073 y_{2} λ^{3} + 4.21447713533363 \\cdot 10^{-9} y_{2} λ^{2} + 0.0341360689523162 y_{2} λ + 0.0453323103641808 y_{2} + 2.24772853107957 \\cdot 10^{-10} λ^{3} + 1.22304767008474 \\cdot 10^{-10} λ + 1.99607214308087 \\cdot 10^{-8}\\right)}\\right)\\right)^{2}\\right) \\left(y_{2} - λ\\right)$"
      ],
      "text/plain": [
       "(1 - Min(1, Max(0, (-93.8706007741935*y1**4*y2**4*λ**3 - 9.17803097766009*y1**4*y2**4*λ - 226.19265377082*y1**4*y2**3*λ**4 - 207.454297053934*y1**4*y2**3*λ**2 - 0.843018528872131*y1**4*y2**3 - 471.265378957849*y1**4*y2**2*λ**3 - 37.3588280788617*y1**4*y2**2*λ + 0.0575866522821714*y1**4*y2**2 - 92.4845567577443*y1**4*y2*λ**4 - 60.1570291314254*y1**4*y2*λ**2 - 2.25964605360396e-9*y1**4*λ**3 - 6.65238197861129e-10*y1**4*λ - 187.786618803877*y1**3*y2**4*λ**4 - 174.602690093693*y1**3*y2**4*λ**2 - 0.690105237895676*y1**3*y2**4 - 1339.48713337051*y1**3*y2**3*λ**3 - 115.662265665606*y1**3*y2**3*λ - 985.438937667053*y1**3*y2**2*λ**4 - 767.560667055545*y1**3*y2**2*λ**2 - 0.451266217813104*y1**3*y2**2 - 428.161143538836*y1**3*y2*λ**3 - 21.5695881319482*y1**3*y2*λ - 0.234423134460347*y1**3*y2 - 3.62481722415708e-9*y1**3*λ**4 - 6.62604715540027e-9*y1**3*λ**2 - 0.0673400670172847*y1**3 - 329.597882060321*y1**2*y2**4*λ**3 - 30.186054951743*y1**2*y2**4*λ - 809.290948491726*y1**2*y2**3*λ**4 - 682.45583090098*y1**2*y2**3*λ**2 - 0.197419362398624*y1**2*y2**3 - 1557.2980730263*y1**2*y2**2*λ**3 - 110.899261056308*y1**2*y2**2*λ - 1.09159501397702*y1**2*y2**2 - 299.641236711826*y1**2*y2*λ**4 - 148.551728704644*y1**2*y2*λ**2 - 9.14119152595205e-9*y1**2*λ**3 - 2.61439659201071e-9*y1**2*λ - 60.4892049887151*y1*y2**4*λ**4 - 52.9699887686613*y1*y2**4*λ**2 - 419.835135507681*y1*y2**3*λ**3 - 35.986524871667*y1*y2**3*λ - 1.52459815193704*y1*y2**3 - 316.228624049672*y1*y2**2*λ**4 - 224.399916431483*y1*y2**2*λ**2 + 1.95340954610773*y1*y2*λ**4 - 122.928908673116*y1*y2*λ**3 + 2.44781633314181*y1*y2*λ**2 - 8.82539965314863*y1*y2*λ - 2.55021214816754*y1*y2 - 2.17441963046294e-9*y1*λ**4 - 3.21782333331105e-9*y1*λ**2 - 0.0841750835481819*y1 + 0.110894173509368*y2**4*λ**4 - 6.43673203626349e-9*y2**4*λ**3 + 0.100565490088966*y2**4*λ**2 + 0.00406421805931845*y2**4*λ - 1.2552515915587e-8*y2**3*λ**4 + 1.05188769276776*y2**3*λ**3 - 1.76357630721213e-8*y2**3*λ**2 + 0.0381778703362869*y2**3 + 1.02705323987332*y2**2*λ**4 - 3.20704471312716e-8*y2**2*λ**3 + 0.971969634638374*y2**2*λ**2 + 0.0125492550959709*y2**2*λ - 5.90649707615798e-9*y2*λ**4 + 1.56603802391073*y2*λ**3 - 8.42895427066725e-9*y2*λ**2 + 0.0341360689523162*y2*λ + 0.0453323103641808*y2 - 4.49545706215915e-10*λ**3 + λ*(124.747140654011*y1**4*y2**4*λ**3 + 13.386245234368*y1**4*y2**4*λ + 290.296616850982*y1**4*y2**3*λ**4 + 283.019066105476*y1**4*y2**3*λ**2 + 1.09337947712899*y1**4*y2**3 + 601.962776807322*y1**4*y2**2*λ**3 + 54.0100640139228*y1**4*y2**2*λ + 0.0575866522821714*y1**4*y2**2 + 106.32113066382*y1**4*y2*λ**4 + 77.2724451051993*y1**4*y2*λ**2 + 4.05676389703125e-9*y1**4*λ**3 + 1.05279807094405e-9*y1**4*λ + 245.301959971224*y1**3*y2**4*λ**4 + 242.641817661521*y1**3*y2**4*λ**2 + 0.943106127409109*y1**3*y2**4 + 1761.79786102418*y1**3*y2**3*λ**3 + 170.849579683545*y1**3*y2**3*λ + 1215.50673693569*y1**3*y2**2*λ**4 + 1020.53206881379*y1**3*y2**2*λ**2 + 0.451266217813104*y1**3*y2**2 + 489.50164194238*y1**3*y2*λ**3 + 31.8624696444964*y1**3*y2*λ + 3.1200510685661*y1**3*y2 + 6.80690936949446e-9*y1**3*λ**4 + 1.15996393601492e-8*y1**3*λ**2 + 0.0673400670172847*y1**3 + 442.21829924871*y1**2*y2**4*λ**3 + 45.3839898135758*y1**2*y2**4*λ + 1034.22879181349*y1**2*y2**3*λ**4 + 930.195435912451*y1**2*y2**3*λ**2 + 0.197419362398624*y1**2*y2**3 + 1917.46666744127*y1**2*y2**2*λ**3 + 162.07436844901*y1**2*y2**2*λ + 5.43462455243831*y1**2*y2**2 + 307.046264912436*y1**2*y2*λ**4 + 167.777652337123*y1**2*y2*λ**2 + 1.71191985864905e-8*y1**2*λ**3 + 4.25259589651936e-9*y1**2*λ + 81.5018498390323*y1*y2**4*λ**4 + 74.4673396237959*y1*y2**4*λ**2 + 548.477637582278*y1*y2**3*λ**3 + 52.7872225951314*y1*y2**3*λ + 2.81226491834336*y1*y2**3 + 381.134866745493*y1*y2**2*λ**4 + 278.031505910524*y1*y2**2*λ**2 + 1.95340954610773*y1*y2*λ**4 + 122.928908673116*y1*y2*λ**3 + 2.44781633314181*y1*y2*λ**2 + 9.42004013749366*y1*y2*λ + 7.45612810158504*y1*y2 + 3.73881735293846e-9*y1*λ**4 + 5.43703077091756e-9*y1*λ**2 + 0.0841750835481819*y1 + 0.110894173509368*y2**4*λ**4 + 6.43673203626349e-9*y2**4*λ**3 + 0.100565490088966*y2**4*λ**2 + 0.00406422014169894*y2**4*λ + 1.2552515915587e-8*y2**3*λ**4 + 1.05188769276776*y2**3*λ**3 + 1.76357630721213e-8*y2**3*λ**2 + 0.0381778707527844*y2**3 + 1.02705323987332*y2**2*λ**4 + 3.20704471312716e-8*y2**2*λ**3 + 0.971969634638374*y2**2*λ**2 + 0.0125492654892704*y2**2*λ + 5.90649707615798e-9*y2*λ**4 + 1.56603802391073*y2*λ**3 + 8.42895427066725e-9*y2*λ**2 + 0.0341360689523162*y2*λ + 0.0453323103641808*y2 + 4.49545706215915e-10*λ**3 + 2.44609534016949e-10*λ + 2.99303002308924e-8) - 2.44609534016949e-10*λ - 9.94801496944237e-9)/((λ - 1)*(70.0927052969595*y1**4*y2**4*λ**3 + 7.745176181361*y1**4*y2**4*λ + 161.174299195532*y1**4*y2**3*λ**4 + 160.400725315623*y1**4*y2**3*λ**2 + 0.609279975628711*y1**4*y2**3 + 333.655737866029*y1**4*y2**2*λ**3 + 31.1678409907267*y1**4*y2**2*λ + 0.0575866522821714*y1**4*y2**2 + 56.6197088084292*y1**4*y2*λ**4 + 42.9150765460431*y1**4*y2*λ**2 + 2.47766140937244e-9*y1**4*λ**3 + 6.23289003742755e-10*y1**4*λ + 137.029815277449*y1**3*y2**4*λ**4 + 138.330690722717*y1**3*y2**4*λ**2 + 0.534803286082912*y1**3*y2**4 + 986.47661242551*y1**3*y2**3*λ**3 + 99.2216183462571*y1**3*y2**3*λ + 665.270318285005*y1**3*y2**2*λ**4 + 573.50888484646*y1**3*y2**2*λ**2 + 0.225633108906552*y1**3*y2**2 + 260.085945572076*y1**3*y2*λ**3 + 18.5044552003852*y1**3*y2*λ + 2.28143251780949*y1**3*y2 + 4.19897772108158e-9*y1**3*λ**4 + 7.04321773126182e-9*y1**3*λ**2 + 0.0336700335086424*y1**3 + 249.264253921452*y1**2*y2**4*λ**3 + 26.4914786222461*y1**2*y2**4*λ + 573.348856737187*y1**2*y2**3*λ**4 + 527.032619209093*y1**2*y2**3*λ**2 + 0.0987096811993122*y1**2*y2**3 + 1048.77548232438*y1**2*y2**2*λ**3 + 93.830961072681*y1**2*y2**2*λ + 3.80306966083448*y1**2*y2**2 + 155.374389506371*y1**2*y2*λ**4 + 88.6953070766813*y1**2*y2*λ**2 + 1.05541010583798e-8*y1**2*λ**3 + 2.53584777438684e-9*y1**2*λ + 46.0040861320954*y1*y2**4*λ**4 + 42.6080075256816*y1*y2**4*λ**2 + 306.399444309788*y1*y2**3*λ**3 + 30.5937857284318*y1*y2**3*λ + 1.72804915077326*y1*y2**3 + 206.793994046702*y1*y2**2*λ**4 + 152.423650325022*y1*y2**2*λ**2 + 1.95340954610773*y1*y2*λ**4 + 61.4644543365579*y1*y2*λ**3 + 2.44781633314181*y1*y2*λ**2 + 4.85868018983308*y1*y2*λ + 4.95454303914689*y1*y2 + 2.26050810708811e-9*y1*λ**4 + 3.27331724486041e-9*y1*λ**2 + 0.0420875417740909*y1 + 0.110894173509368*y2**4*λ**4 + 3.21836601813175e-9*y2**4*λ**3 + 0.100565490088966*y2**4*λ**2 + 0.00406421962110382*y2**4*λ + 6.27625795779352e-9*y2**3*λ**4 + 1.05188769276776*y2**3*λ**3 + 8.81788153606067e-9*y2**3*λ**2 + 0.0381778706486601*y2**3 + 1.02705323987332*y2**2*λ**4 + 1.60352235656358e-8*y2**2*λ**3 + 0.971969634638374*y2**2*λ**2 + 0.0125492628909455*y2**2*λ + 2.95324853807899e-9*y2*λ**4 + 1.56603802391073*y2*λ**3 + 4.21447713533363e-9*y2*λ**2 + 0.0341360689523162*y2*λ + 0.0453323103641808*y2 + 2.24772853107957e-10*λ**3 + 1.22304767008474e-10*λ + 1.99607214308087e-8))))**2)*(y2 - λ)"
      ]
     },
     "execution_count": 29,
     "metadata": {},
     "output_type": "execute_result"
    }
   ],
   "source": [
    "profit_2 = (y2-w2)*(1-π**2)\n",
    "profit_2"
   ]
  },
  {
   "cell_type": "markdown",
   "metadata": {},
   "source": [
    "Those were massive but that's the end of our notebook. As you can see, the price of precision is readability."
   ]
  }
 ],
 "metadata": {
  "kernelspec": {
   "display_name": "Python 3",
   "language": "python",
   "name": "python3"
  },
  "language_info": {
   "codemirror_mode": {
    "name": "ipython",
    "version": 3
   },
   "file_extension": ".py",
   "mimetype": "text/x-python",
   "name": "python",
   "nbconvert_exporter": "python",
   "pygments_lexer": "ipython3",
   "version": "3.8.6"
  }
 },
 "nbformat": 4,
 "nbformat_minor": 4
}
